{
 "cells": [
  {
   "cell_type": "code",
   "execution_count": 1,
   "metadata": {},
   "outputs": [],
   "source": [
    "import pandas as pd"
   ]
  },
  {
   "cell_type": "code",
   "execution_count": 2,
   "metadata": {},
   "outputs": [],
   "source": [
    "import pyarrow.parquet as pq\n",
    "from sqlalchemy import Date as sadt\n",
    "from io import StringIO\n",
    "from glob import glob"
   ]
  },
  {
   "cell_type": "code",
   "execution_count": 3,
   "metadata": {},
   "outputs": [],
   "source": [
    "data_loc = \"D:\\\\DATA_DUMP\\\\DATA_QUALITY\\\\\"\n",
    "dq_main = glob(data_loc+\"\\\\*od_dq_nhm*\")"
   ]
  },
  {
   "cell_type": "code",
   "execution_count": 4,
   "metadata": {},
   "outputs": [],
   "source": [
    "df = pd.read_parquet(dq_main)"
   ]
  },
  {
   "cell_type": "code",
   "execution_count": 5,
   "metadata": {},
   "outputs": [],
   "source": [
    "# Load the data into Postgresql \n",
    "# ===========================================\n",
    "\n",
    "df[\"curr_date\"] = [x.date() for x in pd.to_datetime(df[\"curr_date\"], format=\"%Y-%m-%d\")]\n",
    "df[\"ord_date\"] = [x.date() for x in pd.to_datetime(df[\"ord_date\"], format=\"%Y-%m-%d\")]"
   ]
  },
  {
   "cell_type": "code",
   "execution_count": 6,
   "metadata": {},
   "outputs": [],
   "source": [
    "for col in df.columns:\n",
    "  if col not in [\"curr_date\", \"ord_date\", \"seller_np\"]:\n",
    "    df[col] = df[col].astype(int)"
   ]
  },
  {
   "cell_type": "code",
   "execution_count": null,
   "metadata": {},
   "outputs": [],
   "source": [
    "df.to_sql(\n",
    "\tname=\"od_dq_nhm\",\n",
    "\tcon= conn_str,\n",
    "\tindex=False,\n",
    "\tif_exists='append',\n",
    "\tschema=\"data_sanity\"\n",
    ")"
   ]
  },
  {
   "cell_type": "code",
   "execution_count": null,
   "metadata": {},
   "outputs": [],
   "source": [
    "# # Connection information\n",
    "# conn_info = {\n",
    "#     'dbname': 'db_stage',\n",
    "#     'user': 'postgres',\n",
    "#     'password': 'password',\n",
    "#     'host': '172.31.41.128',\n",
    "#     'port': '5432'\n",
    "# }"
   ]
  },
  {
   "cell_type": "code",
   "execution_count": null,
   "metadata": {},
   "outputs": [],
   "source": [
    "# import pyarrow.parquet as pq\n",
    "# import psycopg\n",
    "# from io import StringIO\n",
    "\n",
    "# def dump_parquet_to_postgresql(parquet_file_path, table_name, conn_info):\n",
    "#     table = pq.read_table(parquet_file_path)\n",
    "#     df = table.to_pandas()\n",
    "#     try:\n",
    "#         with psycopg.connect(**conn_info) as conn:\n",
    "#             with conn.cursor() as cur:\n",
    "#                 # Use COPY to dump data into PostgreSQL\n",
    "#                 buffer = StringIO()\n",
    "#                 df.to_csv(buffer, index=False, header=False)\n",
    "#                 buffer.seek(0)\n",
    "#                 cur.copy(\"COPY {} FROM STDIN WITH CSV\".format(table_name), buffer)\n",
    "#                 conn.commit()\n",
    "#     except Exception as e:\n",
    "#         raise e\n",
    "#     else:\n",
    "#         print(\"Done.\")"
   ]
  }
 ],
 "metadata": {
  "kernelspec": {
   "display_name": ".venv",
   "language": "python",
   "name": "python3"
  },
  "language_info": {
   "codemirror_mode": {
    "name": "ipython",
    "version": 3
   },
   "file_extension": ".py",
   "mimetype": "text/x-python",
   "name": "python",
   "nbconvert_exporter": "python",
   "pygments_lexer": "ipython3",
   "version": "3.12.7"
  }
 },
 "nbformat": 4,
 "nbformat_minor": 2
}
