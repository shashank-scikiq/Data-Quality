{
 "cells": [
  {
   "cell_type": "code",
   "execution_count": 1,
   "metadata": {},
   "outputs": [],
   "source": [
    "import json\n",
    "import os"
   ]
  },
  {
   "cell_type": "code",
   "execution_count": 2,
   "metadata": {},
   "outputs": [],
   "source": [
    "json_file = \"../API/api_struct.json\""
   ]
  },
  {
   "cell_type": "code",
   "execution_count": 3,
   "metadata": {},
   "outputs": [],
   "source": [
    "data = \"\"\n",
    "\n",
    "with open(json_file, \"r\") as f:\n",
    "  data = f.read()"
   ]
  },
  {
   "cell_type": "code",
   "execution_count": 4,
   "metadata": {},
   "outputs": [],
   "source": [
    "result = json.loads(data)"
   ]
  },
  {
   "cell_type": "code",
   "execution_count": 11,
   "metadata": {},
   "outputs": [
    {
     "data": {
      "text/plain": [
       "[{'id': 'ondc-otipy.crofarm.com',\n",
       "  'count': '0.81%',\n",
       "  'increased': True,\n",
       "  'variancePercentage': '1.2%',\n",
       "  'varianceText': 'vs. Yesterday'},\n",
       " {'id': 'ondc-otipy.crofarm.com',\n",
       "  'count': '0.81%',\n",
       "  'increased': True,\n",
       "  'variancePercentage': '1.2%',\n",
       "  'varianceText': 'vs. Yesterday'},\n",
       " {'id': 'ondc-otipy.crofarm.com',\n",
       "  'count': '0.81%',\n",
       "  'increased': True,\n",
       "  'variancePercentage': '1.2%',\n",
       "  'varianceText': 'vs. Yesterday'}]"
      ]
     },
     "execution_count": 11,
     "metadata": {},
     "output_type": "execute_result"
    }
   ],
   "source": [
    "result[\"dq_report\"][\"cancel_highest_missing_pid_data\"]"
   ]
  }
 ],
 "metadata": {
  "kernelspec": {
   "display_name": "venv",
   "language": "python",
   "name": "python3"
  },
  "language_info": {
   "codemirror_mode": {
    "name": "ipython",
    "version": 3
   },
   "file_extension": ".py",
   "mimetype": "text/x-python",
   "name": "python",
   "nbconvert_exporter": "python",
   "pygments_lexer": "ipython3",
   "version": "3.12.4"
  }
 },
 "nbformat": 4,
 "nbformat_minor": 2
}
