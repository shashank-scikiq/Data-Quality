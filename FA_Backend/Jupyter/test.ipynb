{
 "cells": [
  {
   "cell_type": "code",
   "execution_count": null,
   "metadata": {},
   "outputs": [],
   "source": [
    "import sys\n",
    "sys.path.append(\"../\")"
   ]
  },
  {
   "cell_type": "code",
   "execution_count": null,
   "metadata": {},
   "outputs": [],
   "source": [
    "from datetime import date, datetime, timedelta\n",
    "from sqlalchemy import Select, func, extract, or_, desc\n",
    "import pandas as pd"
   ]
  },
  {
   "cell_type": "code",
   "execution_count": null,
   "metadata": {},
   "outputs": [],
   "source": [
    "import Logic.API_calls as ac\n",
    "from Models.models import engine\n",
    "from Models.models import od_dq_base, dq_agg_view, dq_agg_sum\n",
    "import Logic.base_queries as bq"
   ]
  },
  {
   "cell_type": "code",
   "execution_count": null,
   "metadata": {},
   "outputs": [],
   "source": [
    "start_date = bq.get_date_range()[1]\n",
    "prev_dt = start_date - timedelta(days=1)\n",
    "print(start_date, prev_dt)"
   ]
  },
  {
   "cell_type": "code",
   "execution_count": null,
   "metadata": {},
   "outputs": [],
   "source": [
    "def query_top_cards(curr_dt: datetime.date, prev_dt: datetime.date) -> pd.DataFrame:\n",
    "    top_cards = (\n",
    "        Select(\n",
    "            dq_agg_sum.c.ord_date.label(\"Order_Date\"),\n",
    "            func.sum(dq_agg_sum.c.total_orders).label(\"Total_Orders\"),\n",
    "            func.sum(dq_agg_sum.c.total_canceled_orders).label(\"Cancelled_Orders\")\n",
    "        ).where(or_(dq_agg_sum.c.ord_date == curr_dt, dq_agg_sum.c.ord_date == prev_dt))\n",
    "        .group_by(dq_agg_sum.c.ord_date)\n",
    "        .order_by(desc(dq_agg_sum.c.ord_date))\n",
    "    )\n",
    "    result = bq.run_stmt(top_cards)\n",
    "    return pd.DataFrame(result)"
   ]
  },
  {
   "cell_type": "code",
   "execution_count": null,
   "metadata": {},
   "outputs": [],
   "source": [
    "query_top_cards(start_date, prev_dt)"
   ]
  },
  {
   "cell_type": "code",
   "execution_count": null,
   "metadata": {},
   "outputs": [],
   "source": [
    "import json\n",
    "json_file = \"../API/api_struct.json\""
   ]
  },
  {
   "cell_type": "code",
   "execution_count": null,
   "metadata": {},
   "outputs": [],
   "source": [
    "with open(json_file, \"r\") as f:\n",
    "    data = f.read()\n",
    "result = json.loads(data)"
   ]
  },
  {
   "cell_type": "code",
   "execution_count": null,
   "metadata": {},
   "outputs": [],
   "source": [
    "result[\"dq_report\"][\"trend\"][\"missing_orders\"]"
   ]
  }
 ],
 "metadata": {
  "kernelspec": {
   "display_name": "venv",
   "language": "python",
   "name": "python3"
  },
  "language_info": {
   "codemirror_mode": {
    "name": "ipython",
    "version": 3
   },
   "file_extension": ".py",
   "mimetype": "text/x-python",
   "name": "python",
   "nbconvert_exporter": "python",
   "pygments_lexer": "ipython3",
   "version": "3.12.5"
  }
 },
 "nbformat": 4,
 "nbformat_minor": 2
}
