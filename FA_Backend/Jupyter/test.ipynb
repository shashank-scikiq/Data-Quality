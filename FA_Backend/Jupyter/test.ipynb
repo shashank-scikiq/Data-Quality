{
 "cells": [
  {
   "cell_type": "code",
   "execution_count": 1,
   "metadata": {},
   "outputs": [],
   "source": [
    "import sys\n",
    "sys.path.append(\"../\")"
   ]
  },
  {
   "cell_type": "code",
   "execution_count": 2,
   "metadata": {},
   "outputs": [],
   "source": [
    "from datetime import date, datetime, timedelta\n",
    "from sqlalchemy import Select, func, extract, or_, desc\n",
    "import pandas as pd"
   ]
  },
  {
   "cell_type": "code",
   "execution_count": 3,
   "metadata": {},
   "outputs": [
    {
     "name": "stdout",
     "output_type": "stream",
     "text": [
      "Loaded Env from File.\n",
      "All Required Environment variables are loaded.\n",
      "All Required Environment variables are loaded.\n"
     ]
    }
   ],
   "source": [
    "import Logic.API_calls as ac\n",
    "from Models.models import engine\n",
    "from Models.models import od_dq_base, dq_agg_view, dq_agg_sum\n",
    "import Logic.base_queries as bq"
   ]
  },
  {
   "cell_type": "code",
   "execution_count": 4,
   "metadata": {},
   "outputs": [
    {
     "name": "stdout",
     "output_type": "stream",
     "text": [
      "2024-06-25 2024-06-24\n"
     ]
    }
   ],
   "source": [
    "start_date = bq.get_date_range()[1]\n",
    "prev_dt = start_date - timedelta(days=1)\n",
    "print(start_date, prev_dt)"
   ]
  },
  {
   "cell_type": "code",
   "execution_count": 5,
   "metadata": {},
   "outputs": [],
   "source": [
    "def query_top_cards(curr_dt: datetime.date, prev_dt: datetime.date) -> pd.DataFrame:\n",
    "    top_cards = (\n",
    "        Select(\n",
    "            dq_agg_sum.c.ord_date.label(\"Order_Date\"),\n",
    "            func.sum(dq_agg_sum.c.total_orders).label(\"Total_Orders\"),\n",
    "            func.sum(dq_agg_sum.c.total_canceled_orders).label(\"Cancelled_Orders\")\n",
    "        ).where(or_(dq_agg_sum.c.ord_date == curr_dt, dq_agg_sum.c.ord_date == prev_dt))\n",
    "        .group_by(dq_agg_sum.c.ord_date)\n",
    "        .order_by(desc(dq_agg_sum.c.ord_date))\n",
    "    )\n",
    "    result = bq.run_stmt(top_cards)\n",
    "    return pd.DataFrame(result)"
   ]
  },
  {
   "cell_type": "code",
   "execution_count": 6,
   "metadata": {},
   "outputs": [
    {
     "data": {
      "text/html": [
       "<div>\n",
       "<style scoped>\n",
       "    .dataframe tbody tr th:only-of-type {\n",
       "        vertical-align: middle;\n",
       "    }\n",
       "\n",
       "    .dataframe tbody tr th {\n",
       "        vertical-align: top;\n",
       "    }\n",
       "\n",
       "    .dataframe thead th {\n",
       "        text-align: right;\n",
       "    }\n",
       "</style>\n",
       "<table border=\"1\" class=\"dataframe\">\n",
       "  <thead>\n",
       "    <tr style=\"text-align: right;\">\n",
       "      <th></th>\n",
       "      <th>Order_Date</th>\n",
       "      <th>Total_Orders</th>\n",
       "      <th>Cancelled_Orders</th>\n",
       "    </tr>\n",
       "  </thead>\n",
       "  <tbody>\n",
       "    <tr>\n",
       "      <th>0</th>\n",
       "      <td>2024-06-25</td>\n",
       "      <td>200731</td>\n",
       "      <td>3796</td>\n",
       "    </tr>\n",
       "    <tr>\n",
       "      <th>1</th>\n",
       "      <td>2024-06-24</td>\n",
       "      <td>209041</td>\n",
       "      <td>3582</td>\n",
       "    </tr>\n",
       "  </tbody>\n",
       "</table>\n",
       "</div>"
      ],
      "text/plain": [
       "   Order_Date Total_Orders Cancelled_Orders\n",
       "0  2024-06-25       200731             3796\n",
       "1  2024-06-24       209041             3582"
      ]
     },
     "execution_count": 6,
     "metadata": {},
     "output_type": "execute_result"
    }
   ],
   "source": [
    "query_top_cards(start_date, prev_dt)"
   ]
  },
  {
   "cell_type": "code",
   "execution_count": 7,
   "metadata": {},
   "outputs": [],
   "source": [
    "import json\n",
    "json_file = \"../API/api_struct.json\""
   ]
  },
  {
   "cell_type": "code",
   "execution_count": 8,
   "metadata": {},
   "outputs": [],
   "source": [
    "with open(json_file, \"r\") as f:\n",
    "    data = f.read()\n",
    "result = json.loads(data)"
   ]
  },
  {
   "cell_type": "code",
   "execution_count": 13,
   "metadata": {},
   "outputs": [
    {
     "data": {
      "text/plain": [
       "{'title': 'title 1',\n",
       " 'series': [{'name': 'Bengaluru Urban',\n",
       "   'data': [9323.0, 8519.0, 2850.0, 5634.0, 7109.0, 6971.0, 95128.0]},\n",
       "  {'name': 'West Delhi',\n",
       "   'data': [3526.0, 3337.0, 891.0, 2169.0, 943.0, 2024.0, 50588.0]},\n",
       "  {'name': 'Hyderabad',\n",
       "   'data': [2261.0, 2047.0, 859.0, 1332.0, 1359.0, 1740.0, 36857.0]}],\n",
       " 'categories': ['Nov-23',\n",
       "  'Dec-23',\n",
       "  'Jan-24',\n",
       "  'Feb-24',\n",
       "  'Mar-24',\n",
       "  'Apr-24',\n",
       "  'May-24']}"
      ]
     },
     "execution_count": 13,
     "metadata": {},
     "output_type": "execute_result"
    }
   ],
   "source": [
    "result[\"dq_report\"][\"trend\"][\"missing_orders\"]"
   ]
  }
 ],
 "metadata": {
  "kernelspec": {
   "display_name": "venv",
   "language": "python",
   "name": "python3"
  },
  "language_info": {
   "codemirror_mode": {
    "name": "ipython",
    "version": 3
   },
   "file_extension": ".py",
   "mimetype": "text/x-python",
   "name": "python",
   "nbconvert_exporter": "python",
   "pygments_lexer": "ipython3",
   "version": "3.12.5"
  }
 },
 "nbformat": 4,
 "nbformat_minor": 2
}
