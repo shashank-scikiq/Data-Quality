{
 "cells": [
  {
   "cell_type": "code",
   "execution_count": 1,
   "metadata": {},
   "outputs": [],
   "source": [
    "import json\n",
    "import os"
   ]
  },
  {
   "cell_type": "code",
   "execution_count": 2,
   "metadata": {},
   "outputs": [],
   "source": [
    "json_file = \"../API/api_struct.json\""
   ]
  },
  {
   "cell_type": "code",
   "execution_count": 3,
   "metadata": {},
   "outputs": [],
   "source": [
    "data = \"\"\n",
    "\n",
    "with open(json_file, \"r\") as f:\n",
    "  data = f.read()"
   ]
  },
  {
   "cell_type": "code",
   "execution_count": 4,
   "metadata": {},
   "outputs": [],
   "source": [
    "result = json.loads(data)"
   ]
  },
  {
   "cell_type": "code",
   "execution_count": 5,
   "metadata": {},
   "outputs": [
    {
     "data": {
      "text/plain": [
       "[{'title': 'Total Orders',\n",
       "  'count': '0.81%',\n",
       "  'increased': True,\n",
       "  'variancePercentage': '1.2%',\n",
       "  'varianceText': 'vs Yesterday'},\n",
       " {'title': 'Total Cancellations',\n",
       "  'count': '3,137',\n",
       "  'increased': False,\n",
       "  'variancePercentage': '0.7%',\n",
       "  'varianceText': 'vs. Yesterday'},\n",
       " {'title': 'Orders Completed %',\n",
       "  'count': '$306.20',\n",
       "  'increased': False,\n",
       "  'variancePercentage': '0.3%',\n",
       "  'varianceText': 'vs. Yesterday'},\n",
       " {'title': 'Orders Cancelled %',\n",
       "  'count': '1,650',\n",
       "  'increased': False,\n",
       "  'variancePercentage': '2.1%',\n",
       "  'varianceText': 'vs. Yesterday'}]"
      ]
     },
     "execution_count": 5,
     "metadata": {},
     "output_type": "execute_result"
    }
   ],
   "source": [
    "result[\"dq_report\"][\"top_card\"]"
   ]
  },
  {
   "cell_type": "markdown",
   "metadata": {},
   "source": []
  }
 ],
 "metadata": {
  "kernelspec": {
   "display_name": "venv",
   "language": "python",
   "name": "python3"
  },
  "language_info": {
   "codemirror_mode": {
    "name": "ipython",
    "version": 3
   },
   "file_extension": ".py",
   "mimetype": "text/x-python",
   "name": "python",
   "nbconvert_exporter": "python",
   "pygments_lexer": "ipython3",
   "version": "3.12.4"
  }
 },
 "nbformat": 4,
 "nbformat_minor": 2
}
