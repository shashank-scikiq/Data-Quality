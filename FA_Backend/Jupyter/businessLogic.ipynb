{
 "cells": [
  {
   "cell_type": "code",
   "execution_count": null,
   "metadata": {},
   "outputs": [],
   "source": [
    "import sys\n",
    "sys.path.append(\"../\")"
   ]
  },
  {
   "cell_type": "code",
   "execution_count": null,
   "metadata": {},
   "outputs": [],
   "source": [
    "import pandas as pd\n",
    "from datetime import datetime, timedelta\n",
    "import numpy as np\n",
    "import os"
   ]
  },
  {
   "cell_type": "code",
   "execution_count": null,
   "metadata": {},
   "outputs": [],
   "source": [
    "import Misc.env_vars as ev\n",
    "from Logic.base_queries import run_stmt\n",
    "import Misc.env_vars as ev\n",
    "from Logic import base_queries as bq"
   ]
  },
  {
   "cell_type": "code",
   "execution_count": null,
   "metadata": {},
   "outputs": [],
   "source": [
    "from Models.models import (od_dq_base, dq_agg_view, dq_agg_sum, dq_col_sum, dq_dim_order_status, dq_dim_sellers, ds_data_sanity, dq_agg_order_stats,\n",
    "ds_last_run_date)"
   ]
  },
  {
   "cell_type": "code",
   "execution_count": null,
   "metadata": {},
   "outputs": [],
   "source": [
    "from models import engine"
   ]
  },
  {
   "cell_type": "code",
   "execution_count": null,
   "metadata": {},
   "outputs": [],
   "source": [
    "from sqlalchemy import Select, func, or_, desc, and_, asc"
   ]
  },
  {
   "cell_type": "code",
   "execution_count": null,
   "metadata": {},
   "outputs": [],
   "source": [
    "cols_dict = {\n",
    "    \"curr_date\": \"Current Date\",\n",
    "    \"ord_date\": \"Order Date\",\n",
    "    \"seller_np\": \"Seller NP\",\n",
    "    \"null_fulfilment_id\": \"Fulfillment ID\",\n",
    "    \"null_net_tran_id\": \"Net Transaction ID\",\n",
    "    \"null_qty\": \"Quantity\",\n",
    "    \"null_itm_fulfilment_id\": \"Item Fulfillment ID\",\n",
    "    \"null_del_pc\": \"Delivery Pincode\",\n",
    "    \"null_created_date_time\": \"Created Date\",\n",
    "    \"null_domain\": \"Domain\",\n",
    "    \"null_del_cty\": \"Delivery City\",\n",
    "    \"null_cans_code\": \"Cancellation Code\",\n",
    "    \"null_cans_dt_time\": \"Cancellation Date\",\n",
    "    \"null_ord_stats\": \"Order Status\",\n",
    "    \"null_fulfil_status\": \"Fulfillment Status\",\n",
    "    \"null_itm_cat\": \"Item Category\",\n",
    "    \"null_cat_cons\": \"Category\",\n",
    "    \"null_sell_pincode\": \"Seller Pincode\",\n",
    "    \"null_prov_id\": \"Provider ID\",\n",
    "    \"null_itm_id\": \"Item ID\",\n",
    "    \"null_sell_np\": \"Null Seller NP\",\n",
    "    \"null_net_ord_id\": \"Network Order ID\",\n",
    "    \"null_sell_cty\": \"Seller City\",\n",
    "    \"total_orders\" : \"Total Orders\",\n",
    "    \"total_canceled_orders\" : \"Cancelled Orders\",\n",
    "    \"order_date\": \"Order Date\"\n",
    "}"
   ]
  },
  {
   "cell_type": "markdown",
   "metadata": {},
   "source": [
    "## Top Cards "
   ]
  },
  {
   "cell_type": "markdown",
   "metadata": {},
   "source": [
    "### Total Orders with Delta"
   ]
  },
  {
   "cell_type": "code",
   "execution_count": null,
   "metadata": {},
   "outputs": [],
   "source": [
    "dt_rng = bq.get_date_range()\n",
    "\n",
    "max_date = dt_rng[1]"
   ]
  },
  {
   "cell_type": "code",
   "execution_count": null,
   "metadata": {},
   "outputs": [],
   "source": [
    "prev_dt = max_date - timedelta(days=1)"
   ]
  },
  {
   "cell_type": "code",
   "execution_count": null,
   "metadata": {},
   "outputs": [],
   "source": [
    "seller = \"agg.dominos.co.in\""
   ]
  },
  {
   "cell_type": "code",
   "execution_count": null,
   "metadata": {},
   "outputs": [],
   "source": [
    "prev_dt"
   ]
  },
  {
   "cell_type": "code",
   "execution_count": null,
   "metadata": {},
   "outputs": [],
   "source": [
    "st_dt = datetime.strptime(\"2024-08-10\",\"%Y-%m-%d\")"
   ]
  },
  {
   "cell_type": "code",
   "execution_count": null,
   "metadata": {},
   "outputs": [],
   "source": [
    "seller = None"
   ]
  }
 ],
 "metadata": {
  "kernelspec": {
   "display_name": ".venv",
   "language": "python",
   "name": "python3"
  },
  "language_info": {
   "codemirror_mode": {
    "name": "ipython",
    "version": 3
   },
   "file_extension": ".py",
   "mimetype": "text/x-python",
   "name": "python",
   "nbconvert_exporter": "python",
   "pygments_lexer": "ipython3",
   "version": "3.12.4"
  }
 },
 "nbformat": 4,
 "nbformat_minor": 2
}
