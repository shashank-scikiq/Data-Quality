{
 "cells": [
  {
   "cell_type": "code",
   "execution_count": 69,
   "metadata": {},
   "outputs": [],
   "source": [
    "import sys\n",
    "sys.path.append(\"../\")"
   ]
  },
  {
   "cell_type": "code",
   "execution_count": 70,
   "metadata": {},
   "outputs": [],
   "source": [
    "import pandas as pd\n",
    "from datetime import datetime, timedelta\n",
    "import numpy as np\n",
    "import json"
   ]
  },
  {
   "cell_type": "code",
   "execution_count": 71,
   "metadata": {},
   "outputs": [],
   "source": [
    "import Misc.env_vars as ev"
   ]
  },
  {
   "cell_type": "code",
   "execution_count": 72,
   "metadata": {},
   "outputs": [],
   "source": [
    "from Models.models import od_dq_base, dq_agg_sum, dq_agg_view\n",
    "from Logic.base_queries import run_stmt\n",
    "import Misc.env_vars as ev"
   ]
  },
  {
   "cell_type": "code",
   "execution_count": 73,
   "metadata": {},
   "outputs": [],
   "source": [
    "from Logic import base_queries as bq"
   ]
  },
  {
   "cell_type": "code",
   "execution_count": 74,
   "metadata": {},
   "outputs": [],
   "source": [
    "from sqlalchemy import Select, func, or_, desc"
   ]
  },
  {
   "cell_type": "markdown",
   "metadata": {},
   "source": [
    "## Top Cards "
   ]
  },
  {
   "cell_type": "markdown",
   "metadata": {},
   "source": [
    "### Total Orders with Delta"
   ]
  },
  {
   "cell_type": "code",
   "execution_count": 75,
   "metadata": {},
   "outputs": [],
   "source": [
    "dt_rng = bq.get_date_range()\n",
    "\n",
    "max_date = dt_rng[1]"
   ]
  },
  {
   "cell_type": "code",
   "execution_count": 76,
   "metadata": {},
   "outputs": [
    {
     "data": {
      "text/plain": [
       "datetime.date(2024, 6, 25)"
      ]
     },
     "execution_count": 76,
     "metadata": {},
     "output_type": "execute_result"
    }
   ],
   "source": [
    "max_date"
   ]
  },
  {
   "cell_type": "code",
   "execution_count": 77,
   "metadata": {},
   "outputs": [],
   "source": [
    "prev_dt = max_date - timedelta(days=1)"
   ]
  },
  {
   "cell_type": "code",
   "execution_count": 78,
   "metadata": {},
   "outputs": [],
   "source": [
    "top_cards = (\n",
    "    Select(\n",
    "        dq_agg_sum.c.ord_date.label(\"Order_Date\"),\n",
    "        func.sum(dq_agg_sum.c.total_orders).label(\"Total_Orders\"),\n",
    "        func.sum(dq_agg_sum.c.total_canceled_orders).label(\"Cancelled_Orders\")\n",
    "    ).where(or_(dq_agg_sum.c.ord_date == max_date, dq_agg_sum.c.ord_date == prev_dt))\n",
    "    .group_by(dq_agg_sum.c.ord_date)\n",
    "    .order_by(desc(dq_agg_sum.c.ord_date))\n",
    ")"
   ]
  },
  {
   "cell_type": "code",
   "execution_count": 79,
   "metadata": {},
   "outputs": [
    {
     "name": "stdout",
     "output_type": "stream",
     "text": [
      "SELECT db_stage.aggregated_sum.ord_date AS \"Order_Date\", sum(db_stage.aggregated_sum.total_orders) AS \"Total_Orders\", sum(db_stage.aggregated_sum.total_canceled_orders) AS \"Cancelled_Orders\" \n",
      "FROM db_stage.aggregated_sum \n",
      "WHERE db_stage.aggregated_sum.ord_date = :ord_date_1 OR db_stage.aggregated_sum.ord_date = :ord_date_2 GROUP BY db_stage.aggregated_sum.ord_date ORDER BY db_stage.aggregated_sum.ord_date DESC\n"
     ]
    }
   ],
   "source": [
    "print(top_cards)"
   ]
  },
  {
   "cell_type": "code",
   "execution_count": 80,
   "metadata": {},
   "outputs": [],
   "source": [
    "res = run_stmt(top_cards)"
   ]
  },
  {
   "cell_type": "code",
   "execution_count": 81,
   "metadata": {},
   "outputs": [],
   "source": [
    "df_temp = pd.DataFrame(res)"
   ]
  },
  {
   "cell_type": "code",
   "execution_count": 82,
   "metadata": {},
   "outputs": [],
   "source": [
    "# df_temp.loc[:,[\"Order_Date\"]] = df_temp[\"Order_Date\"].astype()\n",
    "df_temp.loc[:,\"Total_Orders\"] = df_temp[\"Total_Orders\"].astype(int)\n",
    "df_temp.loc[:,\"Cancelled_Orders\"] = df_temp[\"Cancelled_Orders\"].astype(int)"
   ]
  },
  {
   "cell_type": "code",
   "execution_count": 83,
   "metadata": {},
   "outputs": [],
   "source": [
    "df_temp[\"Cancel_percentage\"] = df_temp[\"Cancelled_Orders\"] / df_temp[\"Total_Orders\"]"
   ]
  },
  {
   "cell_type": "code",
   "execution_count": 84,
   "metadata": {},
   "outputs": [],
   "source": [
    "df_temp[\"Completed_percentage\"] = (df_temp[\"Total_Orders\"] - df_temp[\"Cancelled_Orders\"])/ df_temp[\"Total_Orders\"]"
   ]
  },
  {
   "cell_type": "code",
   "execution_count": 85,
   "metadata": {},
   "outputs": [
    {
     "data": {
      "text/html": [
       "<div>\n",
       "<style scoped>\n",
       "    .dataframe tbody tr th:only-of-type {\n",
       "        vertical-align: middle;\n",
       "    }\n",
       "\n",
       "    .dataframe tbody tr th {\n",
       "        vertical-align: top;\n",
       "    }\n",
       "\n",
       "    .dataframe thead th {\n",
       "        text-align: right;\n",
       "    }\n",
       "</style>\n",
       "<table border=\"1\" class=\"dataframe\">\n",
       "  <thead>\n",
       "    <tr style=\"text-align: right;\">\n",
       "      <th></th>\n",
       "      <th>Order_Date</th>\n",
       "      <th>Total_Orders</th>\n",
       "      <th>Cancelled_Orders</th>\n",
       "      <th>Cancel_percentage</th>\n",
       "      <th>Completed_percentage</th>\n",
       "    </tr>\n",
       "  </thead>\n",
       "  <tbody>\n",
       "    <tr>\n",
       "      <th>0</th>\n",
       "      <td>2024-06-25</td>\n",
       "      <td>200731</td>\n",
       "      <td>3796</td>\n",
       "      <td>0.018911</td>\n",
       "      <td>0.981089</td>\n",
       "    </tr>\n",
       "    <tr>\n",
       "      <th>1</th>\n",
       "      <td>2024-06-24</td>\n",
       "      <td>209041</td>\n",
       "      <td>3582</td>\n",
       "      <td>0.017135</td>\n",
       "      <td>0.982865</td>\n",
       "    </tr>\n",
       "  </tbody>\n",
       "</table>\n",
       "</div>"
      ],
      "text/plain": [
       "   Order_Date Total_Orders Cancelled_Orders Cancel_percentage  \\\n",
       "0  2024-06-25       200731             3796          0.018911   \n",
       "1  2024-06-24       209041             3582          0.017135   \n",
       "\n",
       "  Completed_percentage  \n",
       "0             0.981089  \n",
       "1             0.982865  "
      ]
     },
     "execution_count": 85,
     "metadata": {},
     "output_type": "execute_result"
    }
   ],
   "source": [
    "df_temp"
   ]
  },
  {
   "cell_type": "code",
   "execution_count": 86,
   "metadata": {},
   "outputs": [],
   "source": [
    "def calc_metrices(df: pd.DataFrame, col_name: str):\n",
    "    old_val = np.round(df[col_name][1],4)\n",
    "    new_val = np.round(df[col_name][0],4)\n",
    "    diff = new_val - old_val\n",
    "    per_diff = np.round((diff/old_val)*100,4)\n",
    "    return new_val, diff, per_diff"
   ]
  },
  {
   "cell_type": "code",
   "execution_count": 87,
   "metadata": {},
   "outputs": [],
   "source": [
    "tt, td, tp = calc_metrices(df_temp, \"Total_Orders\")"
   ]
  },
  {
   "cell_type": "code",
   "execution_count": 88,
   "metadata": {},
   "outputs": [],
   "source": [
    "total_orders = {\n",
    "    \"title\":\"Total Orders\",\n",
    "    \"count\": str(tt),\n",
    "    \"increased\" : False if td < 0 else True,\n",
    "    \"variancePercentage\" : str(tp),\n",
    "    \"varianceText\": \"vs Yesterday\"\n",
    "}"
   ]
  },
  {
   "cell_type": "code",
   "execution_count": 89,
   "metadata": {},
   "outputs": [],
   "source": [
    "tc, cd, cp = calc_metrices(df_temp, \"Cancelled_Orders\")"
   ]
  },
  {
   "cell_type": "code",
   "execution_count": 90,
   "metadata": {},
   "outputs": [],
   "source": [
    "total_cancellation = {\n",
    "    \"title\":\"Cancelled Orders\",\n",
    "    \"count\": str(tc),\n",
    "    \"increased\" : False if cd < 0 else True,\n",
    "    \"variancePercentage\" : str(cp),\n",
    "    \"varianceText\": \"vs Yesterday\"\n",
    "}"
   ]
  },
  {
   "cell_type": "code",
   "execution_count": 91,
   "metadata": {},
   "outputs": [],
   "source": [
    "cct, ccd, ccp = calc_metrices(df_temp, \"Cancel_percentage\")"
   ]
  },
  {
   "cell_type": "code",
   "execution_count": 92,
   "metadata": {},
   "outputs": [
    {
     "data": {
      "text/plain": [
       "np.float64(0.0189)"
      ]
     },
     "execution_count": 92,
     "metadata": {},
     "output_type": "execute_result"
    }
   ],
   "source": [
    "cct"
   ]
  },
  {
   "cell_type": "code",
   "execution_count": 93,
   "metadata": {},
   "outputs": [],
   "source": [
    "cancel_percentage = {\n",
    "    \"title\":\"Order Cancellation %\",\n",
    "    \"count\": str(cct),\n",
    "    \"increased\" : False if ccd < 0 else True,\n",
    "    \"variancePercentage\" : str(ccp),\n",
    "    \"varianceText\": \"vs Yesterday\"\n",
    "}"
   ]
  },
  {
   "cell_type": "code",
   "execution_count": 94,
   "metadata": {},
   "outputs": [],
   "source": [
    "cot, cod, cop = calc_metrices(df_temp, \"Completed_percentage\")"
   ]
  },
  {
   "cell_type": "code",
   "execution_count": 95,
   "metadata": {},
   "outputs": [],
   "source": [
    "compl_percentage = {\n",
    "    \"title\":\"Order Completion %\",\n",
    "    \"count\": str(cot),\n",
    "    \"increased\" : False if cod < 0 else True,\n",
    "    \"variancePercentage\" : str(cop),\n",
    "    \"varianceText\": \"vs Yesterday\"\n",
    "}"
   ]
  },
  {
   "cell_type": "code",
   "execution_count": 96,
   "metadata": {},
   "outputs": [],
   "source": [
    "final_list = [total_orders, total_cancellation, cancel_percentage,compl_percentage]"
   ]
  },
  {
   "cell_type": "code",
   "execution_count": 97,
   "metadata": {},
   "outputs": [
    {
     "data": {
      "text/plain": [
       "[{'title': 'Total Orders',\n",
       "  'count': '200731',\n",
       "  'increased': False,\n",
       "  'variancePercentage': '-3.9753',\n",
       "  'varianceText': 'vs Yesterday'},\n",
       " {'title': 'Cancelled Orders',\n",
       "  'count': '3796',\n",
       "  'increased': True,\n",
       "  'variancePercentage': '5.9743',\n",
       "  'varianceText': 'vs Yesterday'},\n",
       " {'title': 'Order Cancellation %',\n",
       "  'count': '0.0189',\n",
       "  'increased': True,\n",
       "  'variancePercentage': '10.5263',\n",
       "  'varianceText': 'vs Yesterday'},\n",
       " {'title': 'Order Completion %',\n",
       "  'count': '0.9811',\n",
       "  'increased': False,\n",
       "  'variancePercentage': '-0.1831',\n",
       "  'varianceText': 'vs Yesterday'}]"
      ]
     },
     "execution_count": 97,
     "metadata": {},
     "output_type": "execute_result"
    }
   ],
   "source": [
    "final_list"
   ]
  },
  {
   "cell_type": "markdown",
   "metadata": {},
   "source": [
    "## Missing Columns Completed"
   ]
  },
  {
   "cell_type": "code",
   "execution_count": 98,
   "metadata": {},
   "outputs": [],
   "source": [
    "col_sum_comp = (\n",
    "    Select(\n",
    "        dq_agg_view.c.ord_date, \n",
    "        func.sum(dq_agg_view.c.total_orders).label(\"total_orders\"),\n",
    "        func.sum(dq_agg_view.c.null_fulfilment_id).label(\"null_fulfilment_id\"),\n",
    "        func.sum(dq_agg_view.c.null_net_tran_id).label(\"null_net_tran_id\"),\n",
    "        func.sum(dq_agg_view.c.null_qty.label(\"null_qty\")),\n",
    "        func.sum(dq_agg_view.c.null_itm_fulfilment_id).label(\"null_itm_fulfilment_id\"),\n",
    "        func.sum(dq_agg_view.c.null_del_pc).label(\"null_del_pc\"),\n",
    "        func.sum(dq_agg_view.c.null_created_date_time).label(\"null_created_date_time\"),\n",
    "        func.sum(dq_agg_view.c.null_domain).label(\"null_domain\"),\n",
    "        func.sum(dq_agg_view.c.null_del_cty).label(\"null_del_cty\"),\n",
    "        func.sum(dq_agg_view.c.null_ord_stats).label(\"null_ord_stats\"),\n",
    "        func.sum(dq_agg_view.c.null_fulfil_status).label(\"null_fulfil_status\"),\n",
    "        func.sum(dq_agg_view.c.null_itm_cat).label(\"null_itm_cat\"),\n",
    "        func.sum(dq_agg_view.c.null_cat_cons).label(\"null_cat_cons\"),\n",
    "        func.sum(dq_agg_view.c.null_sell_pincode).label(\"null_sell_pincode\"),\n",
    "        func.sum(dq_agg_view.c.null_prov_id).label(\"null_prov_id\"),\n",
    "        func.sum(dq_agg_view.c.null_itm_id).label(\"null_itm_id\"),\n",
    "        func.sum(dq_agg_view.c.null_sell_np).label(\"null_sell_np\"),\n",
    "        func.sum(dq_agg_view.c.null_net_ord_id).label(\"null_net_ord_id\"),\n",
    "        func.sum(dq_agg_view.c.null_sell_cty).label(\"null_sell_cty\"),\n",
    "    ).where(or_(dq_agg_view.c.ord_date==max_date, dq_agg_view.c.ord_date==prev_dt))\n",
    "    .group_by(dq_agg_view.c.ord_date)\n",
    "    .order_by(desc(dq_agg_view.c.ord_date))\n",
    ")"
   ]
  },
  {
   "cell_type": "code",
   "execution_count": 99,
   "metadata": {},
   "outputs": [],
   "source": [
    "col_sum_canc = (\n",
    "    Select(\n",
    "        dq_agg_view.c.ord_date, \n",
    "        func.sum(dq_agg_view.c.total_canceled_orders).label(\"total_canceled_orders\"),\n",
    "        func.sum(dq_agg_view.c.null_cans_code).label(\"null_cans_code\"),\n",
    "        func.sum(dq_agg_view.c.null_cans_dt_time).label(\"null_cans_dt_time\")\n",
    "    ).where(or_(dq_agg_view.c.ord_date==max_date, dq_agg_view.c.ord_date==prev_dt))\n",
    "    .group_by(dq_agg_view.c.ord_date)\n",
    "    .order_by(desc(dq_agg_view.c.ord_date))\n",
    ")"
   ]
  },
  {
   "cell_type": "code",
   "execution_count": 100,
   "metadata": {},
   "outputs": [
    {
     "name": "stdout",
     "output_type": "stream",
     "text": [
      "SELECT db_stage.aggregated_view.ord_date, sum(db_stage.aggregated_view.total_orders) AS total_orders, sum(db_stage.aggregated_view.null_fulfilment_id) AS null_fulfilment_id, sum(db_stage.aggregated_view.null_net_tran_id) AS null_net_tran_id, sum(db_stage.aggregated_view.null_qty) AS sum_1, sum(db_stage.aggregated_view.null_itm_fulfilment_id) AS null_itm_fulfilment_id, sum(db_stage.aggregated_view.null_del_pc) AS null_del_pc, sum(db_stage.aggregated_view.null_created_date_time) AS null_created_date_time, sum(db_stage.aggregated_view.null_domain) AS null_domain, sum(db_stage.aggregated_view.null_del_cty) AS null_del_cty, sum(db_stage.aggregated_view.null_ord_stats) AS null_ord_stats, sum(db_stage.aggregated_view.null_fulfil_status) AS null_fulfil_status, sum(db_stage.aggregated_view.null_itm_cat) AS null_itm_cat, sum(db_stage.aggregated_view.null_cat_cons) AS null_cat_cons, sum(db_stage.aggregated_view.null_sell_pincode) AS null_sell_pincode, sum(db_stage.aggregated_view.null_prov_id) AS null_prov_id, sum(db_stage.aggregated_view.null_itm_id) AS null_itm_id, sum(db_stage.aggregated_view.null_sell_np) AS null_sell_np, sum(db_stage.aggregated_view.null_net_ord_id) AS null_net_ord_id, sum(db_stage.aggregated_view.null_sell_cty) AS null_sell_cty \n",
      "FROM db_stage.aggregated_view \n",
      "WHERE db_stage.aggregated_view.ord_date = :ord_date_1 OR db_stage.aggregated_view.ord_date = :ord_date_2 GROUP BY db_stage.aggregated_view.ord_date ORDER BY db_stage.aggregated_view.ord_date DESC\n"
     ]
    }
   ],
   "source": [
    "print(col_sum_comp)"
   ]
  },
  {
   "cell_type": "code",
   "execution_count": 101,
   "metadata": {},
   "outputs": [],
   "source": [
    "res = run_stmt(col_sum_comp)"
   ]
  },
  {
   "cell_type": "code",
   "execution_count": 102,
   "metadata": {},
   "outputs": [],
   "source": [
    "res_canc = run_stmt(col_sum_canc)"
   ]
  },
  {
   "cell_type": "code",
   "execution_count": 103,
   "metadata": {},
   "outputs": [],
   "source": [
    "tmp_canc = pd.DataFrame(res_canc)"
   ]
  },
  {
   "cell_type": "code",
   "execution_count": 104,
   "metadata": {},
   "outputs": [
    {
     "data": {
      "text/html": [
       "<div>\n",
       "<style scoped>\n",
       "    .dataframe tbody tr th:only-of-type {\n",
       "        vertical-align: middle;\n",
       "    }\n",
       "\n",
       "    .dataframe tbody tr th {\n",
       "        vertical-align: top;\n",
       "    }\n",
       "\n",
       "    .dataframe thead th {\n",
       "        text-align: right;\n",
       "    }\n",
       "</style>\n",
       "<table border=\"1\" class=\"dataframe\">\n",
       "  <thead>\n",
       "    <tr style=\"text-align: right;\">\n",
       "      <th></th>\n",
       "      <th>ord_date</th>\n",
       "      <th>total_canceled_orders</th>\n",
       "      <th>null_cans_code</th>\n",
       "      <th>null_cans_dt_time</th>\n",
       "    </tr>\n",
       "  </thead>\n",
       "  <tbody>\n",
       "    <tr>\n",
       "      <th>0</th>\n",
       "      <td>2024-06-25</td>\n",
       "      <td>3796</td>\n",
       "      <td>50</td>\n",
       "      <td>0</td>\n",
       "    </tr>\n",
       "    <tr>\n",
       "      <th>1</th>\n",
       "      <td>2024-06-24</td>\n",
       "      <td>3582</td>\n",
       "      <td>124</td>\n",
       "      <td>0</td>\n",
       "    </tr>\n",
       "  </tbody>\n",
       "</table>\n",
       "</div>"
      ],
      "text/plain": [
       "     ord_date total_canceled_orders null_cans_code null_cans_dt_time\n",
       "0  2024-06-25                  3796             50                 0\n",
       "1  2024-06-24                  3582            124                 0"
      ]
     },
     "execution_count": 104,
     "metadata": {},
     "output_type": "execute_result"
    }
   ],
   "source": [
    "tmp_canc"
   ]
  },
  {
   "cell_type": "code",
   "execution_count": 105,
   "metadata": {},
   "outputs": [],
   "source": [
    "tmp_df = pd.DataFrame(res)"
   ]
  },
  {
   "cell_type": "code",
   "execution_count": 106,
   "metadata": {},
   "outputs": [
    {
     "data": {
      "text/html": [
       "<div>\n",
       "<style scoped>\n",
       "    .dataframe tbody tr th:only-of-type {\n",
       "        vertical-align: middle;\n",
       "    }\n",
       "\n",
       "    .dataframe tbody tr th {\n",
       "        vertical-align: top;\n",
       "    }\n",
       "\n",
       "    .dataframe thead th {\n",
       "        text-align: right;\n",
       "    }\n",
       "</style>\n",
       "<table border=\"1\" class=\"dataframe\">\n",
       "  <thead>\n",
       "    <tr style=\"text-align: right;\">\n",
       "      <th></th>\n",
       "      <th>ord_date</th>\n",
       "      <th>total_orders</th>\n",
       "      <th>null_fulfilment_id</th>\n",
       "      <th>null_net_tran_id</th>\n",
       "      <th>sum_1</th>\n",
       "      <th>null_itm_fulfilment_id</th>\n",
       "      <th>null_del_pc</th>\n",
       "      <th>null_created_date_time</th>\n",
       "      <th>null_domain</th>\n",
       "      <th>null_del_cty</th>\n",
       "      <th>null_ord_stats</th>\n",
       "      <th>null_fulfil_status</th>\n",
       "      <th>null_itm_cat</th>\n",
       "      <th>null_cat_cons</th>\n",
       "      <th>null_sell_pincode</th>\n",
       "      <th>null_prov_id</th>\n",
       "      <th>null_itm_id</th>\n",
       "      <th>null_sell_np</th>\n",
       "      <th>null_net_ord_id</th>\n",
       "      <th>null_sell_cty</th>\n",
       "    </tr>\n",
       "  </thead>\n",
       "  <tbody>\n",
       "    <tr>\n",
       "      <th>0</th>\n",
       "      <td>2024-06-25</td>\n",
       "      <td>200731</td>\n",
       "      <td>0</td>\n",
       "      <td>0</td>\n",
       "      <td>0</td>\n",
       "      <td>0</td>\n",
       "      <td>0</td>\n",
       "      <td>0</td>\n",
       "      <td>0</td>\n",
       "      <td>6462</td>\n",
       "      <td>0</td>\n",
       "      <td>0</td>\n",
       "      <td>708</td>\n",
       "      <td>7513</td>\n",
       "      <td>17</td>\n",
       "      <td>0</td>\n",
       "      <td>0</td>\n",
       "      <td>0</td>\n",
       "      <td>0</td>\n",
       "      <td>17</td>\n",
       "    </tr>\n",
       "    <tr>\n",
       "      <th>1</th>\n",
       "      <td>2024-06-24</td>\n",
       "      <td>209041</td>\n",
       "      <td>0</td>\n",
       "      <td>0</td>\n",
       "      <td>0</td>\n",
       "      <td>1</td>\n",
       "      <td>0</td>\n",
       "      <td>0</td>\n",
       "      <td>0</td>\n",
       "      <td>4837</td>\n",
       "      <td>0</td>\n",
       "      <td>0</td>\n",
       "      <td>756</td>\n",
       "      <td>5079</td>\n",
       "      <td>19</td>\n",
       "      <td>0</td>\n",
       "      <td>0</td>\n",
       "      <td>0</td>\n",
       "      <td>0</td>\n",
       "      <td>19</td>\n",
       "    </tr>\n",
       "  </tbody>\n",
       "</table>\n",
       "</div>"
      ],
      "text/plain": [
       "     ord_date total_orders null_fulfilment_id null_net_tran_id sum_1  \\\n",
       "0  2024-06-25       200731                  0                0     0   \n",
       "1  2024-06-24       209041                  0                0     0   \n",
       "\n",
       "  null_itm_fulfilment_id null_del_pc null_created_date_time null_domain  \\\n",
       "0                      0           0                      0           0   \n",
       "1                      1           0                      0           0   \n",
       "\n",
       "  null_del_cty null_ord_stats null_fulfil_status null_itm_cat null_cat_cons  \\\n",
       "0         6462              0                  0          708          7513   \n",
       "1         4837              0                  0          756          5079   \n",
       "\n",
       "  null_sell_pincode null_prov_id null_itm_id null_sell_np null_net_ord_id  \\\n",
       "0                17            0           0            0               0   \n",
       "1                19            0           0            0               0   \n",
       "\n",
       "  null_sell_cty  \n",
       "0            17  \n",
       "1            19  "
      ]
     },
     "execution_count": 106,
     "metadata": {},
     "output_type": "execute_result"
    }
   ],
   "source": [
    "tmp_df"
   ]
  },
  {
   "cell_type": "code",
   "execution_count": 107,
   "metadata": {},
   "outputs": [],
   "source": [
    "# per_df = pd.DataFrame()"
   ]
  },
  {
   "cell_type": "code",
   "execution_count": 108,
   "metadata": {},
   "outputs": [],
   "source": [
    "# per_df[\"ord_date\"] = tmp_df[\"ord_date\"]"
   ]
  },
  {
   "cell_type": "code",
   "execution_count": 109,
   "metadata": {},
   "outputs": [],
   "source": [
    "# per_df"
   ]
  },
  {
   "cell_type": "markdown",
   "metadata": {},
   "source": [
    "### Calculate Percentage and Difference "
   ]
  },
  {
   "cell_type": "code",
   "execution_count": 110,
   "metadata": {},
   "outputs": [
    {
     "data": {
      "text/plain": [
       "200731"
      ]
     },
     "execution_count": 110,
     "metadata": {},
     "output_type": "execute_result"
    }
   ],
   "source": [
    "curr_total = int(tmp_df[\"total_orders\"][0])\n",
    "curr_total"
   ]
  },
  {
   "cell_type": "code",
   "execution_count": 111,
   "metadata": {},
   "outputs": [],
   "source": [
    "cols_dict = {\n",
    "    \"curr_date\": \"Current Date\",\n",
    "    \"ord_date\": \"Order Date\",\n",
    "    \"seller_np\": \"Seller NP\",\n",
    "    \"null_fulfilment_id\": \"Fulfilment ID\",\n",
    "    \"null_net_tran_id\": \"Net Transaction ID\",\n",
    "    \"null_qty\": \"Quantity\",\n",
    "    \"null_itm_fulfilment_id\": \"Item Fulfilment ID\",\n",
    "    \"null_del_pc\": \"Delivery Pincode\",\n",
    "    \"null_created_date_time\": \"Created Date\",\n",
    "    \"null_domain\": \"Domain\",\n",
    "    \"null_del_cty\": \"Delivery City\",\n",
    "    \"null_cans_code\": \"Cancellation Code\",\n",
    "    \"null_cans_dt_time\": \"Cancellation Date\",\n",
    "    \"null_ord_stats\": \"Order Status\",\n",
    "    \"null_fulfil_status\": \"Fulfilment Status\",\n",
    "    \"null_itm_cat\": \"Item Category\",\n",
    "    \"null_cat_cons\": \"Category\",\n",
    "    \"null_sell_pincode\": \"Seller Pincode\",\n",
    "    \"null_prov_id\": \"Provider ID\",\n",
    "    \"null_itm_id\": \"Item ID\",\n",
    "    \"null_sell_np\": \"Null Seller NP\",\n",
    "    \"null_net_ord_id\": \"Network Order ID\",\n",
    "    \"null_sell_cty\": \"Seller City\"\n",
    "}"
   ]
  },
  {
   "cell_type": "code",
   "execution_count": 112,
   "metadata": {},
   "outputs": [],
   "source": [
    "res = []\n",
    "tmp_dict = {}\n",
    "\n",
    "for col in tmp_df.columns:\n",
    "    if col.__contains__(\"null\"):\n",
    "        per = np.round((int(tmp_df[col][0])/curr_total)*100,4)\n",
    "        if per > 0:\n",
    "            tmp_dict = {}\n",
    "            tmp_dict['title'] = cols_dict[col]\n",
    "            tmp_dict['series'] = [float(per)]\n",
    "            res.append(tmp_dict)"
   ]
  },
  {
   "cell_type": "code",
   "execution_count": 113,
   "metadata": {},
   "outputs": [
    {
     "data": {
      "text/plain": [
       "[{'title': 'Delivery City', 'series': [3.2192]},\n",
       " {'title': 'Item Category', 'series': [0.3527]},\n",
       " {'title': 'Category', 'series': [3.7428]},\n",
       " {'title': 'Seller Pincode', 'series': [0.0085]},\n",
       " {'title': 'Seller City', 'series': [0.0085]}]"
      ]
     },
     "execution_count": 113,
     "metadata": {},
     "output_type": "execute_result"
    }
   ],
   "source": [
    "res"
   ]
  },
  {
   "cell_type": "markdown",
   "metadata": {},
   "source": [
    "## Totals Trend"
   ]
  },
  {
   "cell_type": "code",
   "execution_count": 114,
   "metadata": {},
   "outputs": [],
   "source": [
    "ord_trend = (\n",
    "    Select(\n",
    "        dq_agg_view.c.ord_date.label(\"ord_date\"),\n",
    "        func.sum(dq_agg_view.c.total_orders).label(\"total_orders\"),\n",
    "        func.sum(dq_agg_view.c.null_fulfilment_id).label(\"null_fulfilment_id\"),\n",
    "        func.sum(dq_agg_view.c.null_net_tran_id).label(\"null_net_tran_id\"),\n",
    "        func.sum(dq_agg_view.c.null_qty).label(\"null_qty\"),\n",
    "        func.sum(dq_agg_view.c.null_itm_fulfilment_id).label(\"null_itm_fulfilment_id\"),\n",
    "        func.sum(dq_agg_view.c.null_del_pc).label(\"null_del_pc\"),\n",
    "        func.sum(dq_agg_view.c.null_created_date_time).label(\"null_created_date_time\"),\n",
    "        func.sum(dq_agg_view.c.null_domain).label(\"null_domain\"),\n",
    "        func.sum(dq_agg_view.c.null_del_cty).label(\"null_del_cty\"),\n",
    "        func.sum(dq_agg_view.c.null_ord_stats).label(\"null_ord_stats\"),\n",
    "        func.sum(dq_agg_view.c.null_fulfil_status).label(\"null_fulfil_status\"),\n",
    "        func.sum(dq_agg_view.c.null_itm_cat).label(\"null_itm_cat\"),\n",
    "        func.sum(dq_agg_view.c.null_cat_cons).label(\"null_cat_cons\"),\n",
    "        func.sum(dq_agg_view.c.null_sell_pincode).label(\"null_sell_pincode\"),\n",
    "        func.sum(dq_agg_view.c.null_prov_id).label(\"null_prov_id\"),\n",
    "        func.sum(dq_agg_view.c.null_itm_id).label(\"null_itm_id\"),\n",
    "        func.sum(dq_agg_view.c.null_sell_np).label(\"null_sell_np\"),\n",
    "        func.sum(dq_agg_view.c.null_net_ord_id).label(\"null_net_ord_id\"),\n",
    "        func.sum(dq_agg_view.c.null_sell_cty).label(\"null_sell_cty\"),\n",
    "        func.sum(dq_agg_view.c.total_canceled_orders).label(\"total_canceled_orders\"),\n",
    "        func.sum(dq_agg_view.c.null_cans_code).label(\"null_cans_code\"),\n",
    "        func.sum(dq_agg_view.c.null_cans_dt_time).label(\"null_cans_dt_time\") \n",
    "    ).group_by(dq_agg_view.c.ord_date)\n",
    "    .order_by(desc(dq_agg_view.c.ord_date))\n",
    ")"
   ]
  },
  {
   "cell_type": "code",
   "execution_count": 115,
   "metadata": {},
   "outputs": [],
   "source": [
    "df_trend = pd.DataFrame(run_stmt(ord_trend))"
   ]
  },
  {
   "cell_type": "code",
   "execution_count": 116,
   "metadata": {},
   "outputs": [
    {
     "data": {
      "text/html": [
       "<div>\n",
       "<style scoped>\n",
       "    .dataframe tbody tr th:only-of-type {\n",
       "        vertical-align: middle;\n",
       "    }\n",
       "\n",
       "    .dataframe tbody tr th {\n",
       "        vertical-align: top;\n",
       "    }\n",
       "\n",
       "    .dataframe thead th {\n",
       "        text-align: right;\n",
       "    }\n",
       "</style>\n",
       "<table border=\"1\" class=\"dataframe\">\n",
       "  <thead>\n",
       "    <tr style=\"text-align: right;\">\n",
       "      <th></th>\n",
       "      <th>ord_date</th>\n",
       "      <th>total_orders</th>\n",
       "      <th>null_fulfilment_id</th>\n",
       "      <th>null_net_tran_id</th>\n",
       "      <th>null_qty</th>\n",
       "      <th>null_itm_fulfilment_id</th>\n",
       "      <th>null_del_pc</th>\n",
       "      <th>null_created_date_time</th>\n",
       "      <th>null_domain</th>\n",
       "      <th>null_del_cty</th>\n",
       "      <th>...</th>\n",
       "      <th>null_cat_cons</th>\n",
       "      <th>null_sell_pincode</th>\n",
       "      <th>null_prov_id</th>\n",
       "      <th>null_itm_id</th>\n",
       "      <th>null_sell_np</th>\n",
       "      <th>null_net_ord_id</th>\n",
       "      <th>null_sell_cty</th>\n",
       "      <th>total_canceled_orders</th>\n",
       "      <th>null_cans_code</th>\n",
       "      <th>null_cans_dt_time</th>\n",
       "    </tr>\n",
       "  </thead>\n",
       "  <tbody>\n",
       "    <tr>\n",
       "      <th>0</th>\n",
       "      <td>2024-06-25</td>\n",
       "      <td>200731</td>\n",
       "      <td>0</td>\n",
       "      <td>0</td>\n",
       "      <td>0</td>\n",
       "      <td>0</td>\n",
       "      <td>0</td>\n",
       "      <td>0</td>\n",
       "      <td>0</td>\n",
       "      <td>6462</td>\n",
       "      <td>...</td>\n",
       "      <td>7513</td>\n",
       "      <td>17</td>\n",
       "      <td>0</td>\n",
       "      <td>0</td>\n",
       "      <td>0</td>\n",
       "      <td>0</td>\n",
       "      <td>17</td>\n",
       "      <td>3796</td>\n",
       "      <td>50</td>\n",
       "      <td>0</td>\n",
       "    </tr>\n",
       "    <tr>\n",
       "      <th>1</th>\n",
       "      <td>2024-06-24</td>\n",
       "      <td>209041</td>\n",
       "      <td>0</td>\n",
       "      <td>0</td>\n",
       "      <td>0</td>\n",
       "      <td>1</td>\n",
       "      <td>0</td>\n",
       "      <td>0</td>\n",
       "      <td>0</td>\n",
       "      <td>4837</td>\n",
       "      <td>...</td>\n",
       "      <td>5079</td>\n",
       "      <td>19</td>\n",
       "      <td>0</td>\n",
       "      <td>0</td>\n",
       "      <td>0</td>\n",
       "      <td>0</td>\n",
       "      <td>19</td>\n",
       "      <td>3582</td>\n",
       "      <td>124</td>\n",
       "      <td>0</td>\n",
       "    </tr>\n",
       "    <tr>\n",
       "      <th>2</th>\n",
       "      <td>2024-06-23</td>\n",
       "      <td>247323</td>\n",
       "      <td>0</td>\n",
       "      <td>0</td>\n",
       "      <td>0</td>\n",
       "      <td>0</td>\n",
       "      <td>3</td>\n",
       "      <td>0</td>\n",
       "      <td>0</td>\n",
       "      <td>6935</td>\n",
       "      <td>...</td>\n",
       "      <td>1589</td>\n",
       "      <td>33</td>\n",
       "      <td>0</td>\n",
       "      <td>0</td>\n",
       "      <td>0</td>\n",
       "      <td>0</td>\n",
       "      <td>33</td>\n",
       "      <td>6306</td>\n",
       "      <td>57</td>\n",
       "      <td>0</td>\n",
       "    </tr>\n",
       "    <tr>\n",
       "      <th>3</th>\n",
       "      <td>2024-06-22</td>\n",
       "      <td>187909</td>\n",
       "      <td>0</td>\n",
       "      <td>0</td>\n",
       "      <td>0</td>\n",
       "      <td>0</td>\n",
       "      <td>1</td>\n",
       "      <td>0</td>\n",
       "      <td>0</td>\n",
       "      <td>5889</td>\n",
       "      <td>...</td>\n",
       "      <td>2340</td>\n",
       "      <td>19</td>\n",
       "      <td>0</td>\n",
       "      <td>0</td>\n",
       "      <td>0</td>\n",
       "      <td>0</td>\n",
       "      <td>19</td>\n",
       "      <td>4513</td>\n",
       "      <td>62</td>\n",
       "      <td>0</td>\n",
       "    </tr>\n",
       "    <tr>\n",
       "      <th>4</th>\n",
       "      <td>2024-06-21</td>\n",
       "      <td>185578</td>\n",
       "      <td>0</td>\n",
       "      <td>0</td>\n",
       "      <td>0</td>\n",
       "      <td>1</td>\n",
       "      <td>1</td>\n",
       "      <td>0</td>\n",
       "      <td>0</td>\n",
       "      <td>7489</td>\n",
       "      <td>...</td>\n",
       "      <td>1760</td>\n",
       "      <td>89</td>\n",
       "      <td>0</td>\n",
       "      <td>0</td>\n",
       "      <td>0</td>\n",
       "      <td>0</td>\n",
       "      <td>89</td>\n",
       "      <td>5030</td>\n",
       "      <td>57</td>\n",
       "      <td>0</td>\n",
       "    </tr>\n",
       "  </tbody>\n",
       "</table>\n",
       "<p>5 rows × 23 columns</p>\n",
       "</div>"
      ],
      "text/plain": [
       "     ord_date total_orders null_fulfilment_id null_net_tran_id null_qty  \\\n",
       "0  2024-06-25       200731                  0                0        0   \n",
       "1  2024-06-24       209041                  0                0        0   \n",
       "2  2024-06-23       247323                  0                0        0   \n",
       "3  2024-06-22       187909                  0                0        0   \n",
       "4  2024-06-21       185578                  0                0        0   \n",
       "\n",
       "  null_itm_fulfilment_id null_del_pc null_created_date_time null_domain  \\\n",
       "0                      0           0                      0           0   \n",
       "1                      1           0                      0           0   \n",
       "2                      0           3                      0           0   \n",
       "3                      0           1                      0           0   \n",
       "4                      1           1                      0           0   \n",
       "\n",
       "  null_del_cty  ... null_cat_cons null_sell_pincode null_prov_id null_itm_id  \\\n",
       "0         6462  ...          7513                17            0           0   \n",
       "1         4837  ...          5079                19            0           0   \n",
       "2         6935  ...          1589                33            0           0   \n",
       "3         5889  ...          2340                19            0           0   \n",
       "4         7489  ...          1760                89            0           0   \n",
       "\n",
       "  null_sell_np null_net_ord_id null_sell_cty total_canceled_orders  \\\n",
       "0            0               0            17                  3796   \n",
       "1            0               0            19                  3582   \n",
       "2            0               0            33                  6306   \n",
       "3            0               0            19                  4513   \n",
       "4            0               0            89                  5030   \n",
       "\n",
       "  null_cans_code null_cans_dt_time  \n",
       "0             50                 0  \n",
       "1            124                 0  \n",
       "2             57                 0  \n",
       "3             62                 0  \n",
       "4             57                 0  \n",
       "\n",
       "[5 rows x 23 columns]"
      ]
     },
     "execution_count": 116,
     "metadata": {},
     "output_type": "execute_result"
    }
   ],
   "source": [
    "df_trend.head(5)"
   ]
  },
  {
   "cell_type": "code",
   "execution_count": 117,
   "metadata": {},
   "outputs": [],
   "source": [
    "df_big = pd.DataFrame()\n",
    "df_small = pd.DataFrame()\n",
    "\n",
    "df_big[ev.cols_dict[\"ord_date\"]] = df_trend[[\"ord_date\"]]\n",
    "df_small[ev.cols_dict[\"ord_date\"]] = df_trend[[\"ord_date\"]]"
   ]
  },
  {
   "cell_type": "code",
   "execution_count": 118,
   "metadata": {},
   "outputs": [
    {
     "data": {
      "text/html": [
       "<div>\n",
       "<style scoped>\n",
       "    .dataframe tbody tr th:only-of-type {\n",
       "        vertical-align: middle;\n",
       "    }\n",
       "\n",
       "    .dataframe tbody tr th {\n",
       "        vertical-align: top;\n",
       "    }\n",
       "\n",
       "    .dataframe thead th {\n",
       "        text-align: right;\n",
       "    }\n",
       "</style>\n",
       "<table border=\"1\" class=\"dataframe\">\n",
       "  <thead>\n",
       "    <tr style=\"text-align: right;\">\n",
       "      <th></th>\n",
       "      <th>Order Date</th>\n",
       "    </tr>\n",
       "  </thead>\n",
       "  <tbody>\n",
       "    <tr>\n",
       "      <th>0</th>\n",
       "      <td>2024-06-25</td>\n",
       "    </tr>\n",
       "    <tr>\n",
       "      <th>1</th>\n",
       "      <td>2024-06-24</td>\n",
       "    </tr>\n",
       "    <tr>\n",
       "      <th>2</th>\n",
       "      <td>2024-06-23</td>\n",
       "    </tr>\n",
       "    <tr>\n",
       "      <th>3</th>\n",
       "      <td>2024-06-22</td>\n",
       "    </tr>\n",
       "    <tr>\n",
       "      <th>4</th>\n",
       "      <td>2024-06-21</td>\n",
       "    </tr>\n",
       "  </tbody>\n",
       "</table>\n",
       "</div>"
      ],
      "text/plain": [
       "   Order Date\n",
       "0  2024-06-25\n",
       "1  2024-06-24\n",
       "2  2024-06-23\n",
       "3  2024-06-22\n",
       "4  2024-06-21"
      ]
     },
     "execution_count": 118,
     "metadata": {},
     "output_type": "execute_result"
    }
   ],
   "source": [
    "df_big.head(5)"
   ]
  },
  {
   "cell_type": "code",
   "execution_count": 119,
   "metadata": {},
   "outputs": [],
   "source": [
    "for col in df_trend.columns:\n",
    "    if col not in [\"ord_date\", \"total_orders\"]:\n",
    "        try:\n",
    "            mean_trend = df_trend[col].mean() \n",
    "            if mean_trend > 0:\n",
    "                if mean_trend > 500:\n",
    "                    df_big.loc[:,[ev.cols_dict[col]]] = df_trend[col]\n",
    "                elif mean_trend < 500 and mean_trend > 1:\n",
    "                    df_small.loc[:,[ev.cols_dict[col]]] = df_trend[col]\n",
    "                # print(col, df_trend[col].mean())\n",
    "        except:\n",
    "            pass"
   ]
  },
  {
   "cell_type": "code",
   "execution_count": 120,
   "metadata": {},
   "outputs": [
    {
     "data": {
      "text/html": [
       "<div>\n",
       "<style scoped>\n",
       "    .dataframe tbody tr th:only-of-type {\n",
       "        vertical-align: middle;\n",
       "    }\n",
       "\n",
       "    .dataframe tbody tr th {\n",
       "        vertical-align: top;\n",
       "    }\n",
       "\n",
       "    .dataframe thead th {\n",
       "        text-align: right;\n",
       "    }\n",
       "</style>\n",
       "<table border=\"1\" class=\"dataframe\">\n",
       "  <thead>\n",
       "    <tr style=\"text-align: right;\">\n",
       "      <th></th>\n",
       "      <th>Order Date</th>\n",
       "      <th>Delivery City</th>\n",
       "      <th>Item Category</th>\n",
       "      <th>Category</th>\n",
       "    </tr>\n",
       "  </thead>\n",
       "  <tbody>\n",
       "    <tr>\n",
       "      <th>0</th>\n",
       "      <td>2024-06-25</td>\n",
       "      <td>6462</td>\n",
       "      <td>708</td>\n",
       "      <td>7513</td>\n",
       "    </tr>\n",
       "    <tr>\n",
       "      <th>1</th>\n",
       "      <td>2024-06-24</td>\n",
       "      <td>4837</td>\n",
       "      <td>756</td>\n",
       "      <td>5079</td>\n",
       "    </tr>\n",
       "    <tr>\n",
       "      <th>2</th>\n",
       "      <td>2024-06-23</td>\n",
       "      <td>6935</td>\n",
       "      <td>1450</td>\n",
       "      <td>1589</td>\n",
       "    </tr>\n",
       "    <tr>\n",
       "      <th>3</th>\n",
       "      <td>2024-06-22</td>\n",
       "      <td>5889</td>\n",
       "      <td>882</td>\n",
       "      <td>2340</td>\n",
       "    </tr>\n",
       "    <tr>\n",
       "      <th>4</th>\n",
       "      <td>2024-06-21</td>\n",
       "      <td>7489</td>\n",
       "      <td>723</td>\n",
       "      <td>1760</td>\n",
       "    </tr>\n",
       "  </tbody>\n",
       "</table>\n",
       "</div>"
      ],
      "text/plain": [
       "   Order Date Delivery City Item Category Category\n",
       "0  2024-06-25          6462           708     7513\n",
       "1  2024-06-24          4837           756     5079\n",
       "2  2024-06-23          6935          1450     1589\n",
       "3  2024-06-22          5889           882     2340\n",
       "4  2024-06-21          7489           723     1760"
      ]
     },
     "execution_count": 120,
     "metadata": {},
     "output_type": "execute_result"
    }
   ],
   "source": [
    "df_big.head(5)"
   ]
  },
  {
   "cell_type": "code",
   "execution_count": 121,
   "metadata": {},
   "outputs": [],
   "source": [
    "# sns.lineplot(df_big)"
   ]
  },
  {
   "cell_type": "code",
   "execution_count": 122,
   "metadata": {},
   "outputs": [
    {
     "data": {
      "text/plain": [
       "'{\"Order Date\":{\"0\":1719273600000,\"1\":1719187200000,\"2\":1719100800000,\"3\":1719014400000,\"4\":1718928000000,\"5\":1718841600000,\"6\":1718755200000,\"7\":1718668800000,\"8\":1718582400000,\"9\":1718496000000,\"10\":1718409600000,\"11\":1718323200000,\"12\":1718236800000,\"13\":1718150400000,\"14\":1718064000000,\"15\":1717977600000,\"16\":1717891200000,\"17\":1717804800000,\"18\":1717718400000,\"19\":1717632000000,\"20\":1717545600000,\"21\":1717459200000,\"22\":1717372800000,\"23\":1717286400000,\"24\":1717200000000,\"25\":1717113600000,\"26\":1717027200000,\"27\":1716940800000,\"28\":1716854400000,\"29\":1716768000000,\"30\":1716681600000,\"31\":1716595200000,\"32\":1716508800000,\"33\":1716422400000,\"34\":1716336000000,\"35\":1716249600000,\"36\":1716163200000,\"37\":1716076800000,\"38\":1715990400000,\"39\":1715904000000,\"40\":1715817600000,\"41\":1715731200000},\"Delivery City\":{\"0\":6462.0,\"1\":4837.0,\"2\":6935.0,\"3\":5889.0,\"4\":7489.0,\"5\":5467.0,\"6\":4558.0,\"7\":6279.0,\"8\":5296.0,\"9\":6787.0,\"10\":6700.0,\"11\":5672.0,\"12\":7856.0,\"13\":9127.0,\"14\":7849.0,\"15\":4883.0,\"16\":7513.0,\"17\":5820.0,\"18\":4754.0,\"19\":6232.0,\"20\":5232.0,\"21\":7156.0,\"22\":8751.0,\"23\":8625.0,\"24\":6433.0,\"25\":5635.0,\"26\":5522.0,\"27\":6188.0,\"28\":6372.0,\"29\":6195.0,\"30\":9484.0,\"31\":5858.0,\"32\":5812.0,\"33\":6304.0,\"34\":6350.0,\"35\":6157.0,\"36\":6046.0,\"37\":8981.0,\"38\":7798.0,\"39\":12452.0,\"40\":6552.0,\"41\":7455.0},\"Item Category\":{\"0\":708.0,\"1\":756.0,\"2\":1450.0,\"3\":882.0,\"4\":723.0,\"5\":760.0,\"6\":594.0,\"7\":699.0,\"8\":783.0,\"9\":1336.0,\"10\":1220.0,\"11\":1091.0,\"12\":994.0,\"13\":1184.0,\"14\":987.0,\"15\":729.0,\"16\":1411.0,\"17\":865.0,\"18\":540.0,\"19\":593.0,\"20\":442.0,\"21\":2450.0,\"22\":2603.0,\"23\":2983.0,\"24\":2007.0,\"25\":2109.0,\"26\":2375.0,\"27\":2172.0,\"28\":2152.0,\"29\":2074.0,\"30\":2589.0,\"31\":1906.0,\"32\":1809.0,\"33\":2004.0,\"34\":1730.0,\"35\":2194.0,\"36\":2000.0,\"37\":1839.0,\"38\":2328.0,\"39\":3784.0,\"40\":1897.0,\"41\":1612.0},\"Category\":{\"0\":7513.0,\"1\":5079.0,\"2\":1589.0,\"3\":2340.0,\"4\":1760.0,\"5\":2464.0,\"6\":2102.0,\"7\":1183.0,\"8\":961.0,\"9\":1408.0,\"10\":6365.0,\"11\":2279.0,\"12\":2269.0,\"13\":2196.0,\"14\":3004.0,\"15\":4179.0,\"16\":1560.0,\"17\":2471.0,\"18\":1935.0,\"19\":2043.0,\"20\":1508.0,\"21\":3146.0,\"22\":2995.0,\"23\":3064.0,\"24\":2293.0,\"25\":3654.0,\"26\":2774.0,\"27\":2570.0,\"28\":4683.0,\"29\":3008.0,\"30\":2637.0,\"31\":2215.0,\"32\":2103.0,\"33\":2750.0,\"34\":2105.0,\"35\":2367.0,\"36\":2035.0,\"37\":1889.0,\"38\":2392.0,\"39\":3910.0,\"40\":1946.0,\"41\":1672.0}}'"
      ]
     },
     "execution_count": 122,
     "metadata": {},
     "output_type": "execute_result"
    }
   ],
   "source": [
    "df_big.to_json()"
   ]
  },
  {
   "cell_type": "code",
   "execution_count": 123,
   "metadata": {},
   "outputs": [
    {
     "data": {
      "text/html": [
       "<div>\n",
       "<style scoped>\n",
       "    .dataframe tbody tr th:only-of-type {\n",
       "        vertical-align: middle;\n",
       "    }\n",
       "\n",
       "    .dataframe tbody tr th {\n",
       "        vertical-align: top;\n",
       "    }\n",
       "\n",
       "    .dataframe thead th {\n",
       "        text-align: right;\n",
       "    }\n",
       "</style>\n",
       "<table border=\"1\" class=\"dataframe\">\n",
       "  <thead>\n",
       "    <tr style=\"text-align: right;\">\n",
       "      <th></th>\n",
       "      <th>Order Date</th>\n",
       "      <th>Delivery Pincode</th>\n",
       "      <th>Seller Pincode</th>\n",
       "      <th>Provider ID</th>\n",
       "      <th>Seller City</th>\n",
       "      <th>Cancellation Code</th>\n",
       "    </tr>\n",
       "  </thead>\n",
       "  <tbody>\n",
       "    <tr>\n",
       "      <th>0</th>\n",
       "      <td>2024-06-25</td>\n",
       "      <td>0</td>\n",
       "      <td>17</td>\n",
       "      <td>0</td>\n",
       "      <td>17</td>\n",
       "      <td>50</td>\n",
       "    </tr>\n",
       "    <tr>\n",
       "      <th>1</th>\n",
       "      <td>2024-06-24</td>\n",
       "      <td>0</td>\n",
       "      <td>19</td>\n",
       "      <td>0</td>\n",
       "      <td>19</td>\n",
       "      <td>124</td>\n",
       "    </tr>\n",
       "    <tr>\n",
       "      <th>2</th>\n",
       "      <td>2024-06-23</td>\n",
       "      <td>3</td>\n",
       "      <td>33</td>\n",
       "      <td>0</td>\n",
       "      <td>33</td>\n",
       "      <td>57</td>\n",
       "    </tr>\n",
       "    <tr>\n",
       "      <th>3</th>\n",
       "      <td>2024-06-22</td>\n",
       "      <td>1</td>\n",
       "      <td>19</td>\n",
       "      <td>0</td>\n",
       "      <td>19</td>\n",
       "      <td>62</td>\n",
       "    </tr>\n",
       "    <tr>\n",
       "      <th>4</th>\n",
       "      <td>2024-06-21</td>\n",
       "      <td>1</td>\n",
       "      <td>89</td>\n",
       "      <td>0</td>\n",
       "      <td>89</td>\n",
       "      <td>57</td>\n",
       "    </tr>\n",
       "  </tbody>\n",
       "</table>\n",
       "</div>"
      ],
      "text/plain": [
       "   Order Date Delivery Pincode Seller Pincode Provider ID Seller City  \\\n",
       "0  2024-06-25                0             17           0          17   \n",
       "1  2024-06-24                0             19           0          19   \n",
       "2  2024-06-23                3             33           0          33   \n",
       "3  2024-06-22                1             19           0          19   \n",
       "4  2024-06-21                1             89           0          89   \n",
       "\n",
       "  Cancellation Code  \n",
       "0                50  \n",
       "1               124  \n",
       "2                57  \n",
       "3                62  \n",
       "4                57  "
      ]
     },
     "execution_count": 123,
     "metadata": {},
     "output_type": "execute_result"
    }
   ],
   "source": [
    "df_small.head(5)"
   ]
  },
  {
   "cell_type": "markdown",
   "metadata": {},
   "source": [
    "Jsonify"
   ]
  },
  {
   "cell_type": "code",
   "execution_count": null,
   "metadata": {},
   "outputs": [],
   "source": []
  },
  {
   "cell_type": "code",
   "execution_count": 124,
   "metadata": {},
   "outputs": [
    {
     "name": "stdout",
     "output_type": "stream",
     "text": [
      "<class 'pandas.core.frame.DataFrame'>\n",
      "RangeIndex: 42 entries, 0 to 41\n",
      "Data columns (total 4 columns):\n",
      " #   Column         Non-Null Count  Dtype \n",
      "---  ------         --------------  ----- \n",
      " 0   Order Date     42 non-null     object\n",
      " 1   Delivery City  42 non-null     object\n",
      " 2   Item Category  42 non-null     object\n",
      " 3   Category       42 non-null     object\n",
      "dtypes: object(4)\n",
      "memory usage: 1.4+ KB\n"
     ]
    }
   ],
   "source": [
    "df_big.info()"
   ]
  },
  {
   "cell_type": "code",
   "execution_count": 125,
   "metadata": {},
   "outputs": [],
   "source": [
    "for col in df_big.columns:\n",
    "    try:\n",
    "        if col != \"Order Date\":\n",
    "            df_big.loc[:,[col]] = df_big[col].astype(int)\n",
    "    except:\n",
    "        pass"
   ]
  },
  {
   "cell_type": "code",
   "execution_count": 126,
   "metadata": {},
   "outputs": [],
   "source": [
    "test_dict = df_big.head(5).to_dict()"
   ]
  },
  {
   "cell_type": "code",
   "execution_count": 127,
   "metadata": {},
   "outputs": [
    {
     "data": {
      "text/plain": [
       "dict_keys(['Order Date', 'Delivery City', 'Item Category', 'Category'])"
      ]
     },
     "execution_count": 127,
     "metadata": {},
     "output_type": "execute_result"
    }
   ],
   "source": [
    "test_dict.keys()"
   ]
  },
  {
   "cell_type": "code",
   "execution_count": 128,
   "metadata": {},
   "outputs": [],
   "source": [
    "res_dict = {}\n",
    "output = []"
   ]
  },
  {
   "cell_type": "code",
   "execution_count": 129,
   "metadata": {},
   "outputs": [
    {
     "data": {
      "text/plain": [
       "[6462, 4837, 6935, 5889, 7489]"
      ]
     },
     "execution_count": 129,
     "metadata": {},
     "output_type": "execute_result"
    }
   ],
   "source": [
    "[val for val in test_dict[\"Delivery City\"].values()]"
   ]
  },
  {
   "cell_type": "code",
   "execution_count": 130,
   "metadata": {},
   "outputs": [
    {
     "name": "stdout",
     "output_type": "stream",
     "text": [
      "Delivery City\n",
      "Item Category\n",
      "Category\n"
     ]
    }
   ],
   "source": [
    "for key in test_dict.keys():\n",
    "    if key not in (\"Order Date\",\"categories\"):\n",
    "        print(key)\n",
    "        res_dict = {}\n",
    "        res_dict[\"name\"] = key\n",
    "        res_dict[\"data\"] = [val for val in test_dict[key].values()]\n",
    "        output.append(res_dict)"
   ]
  },
  {
   "cell_type": "markdown",
   "metadata": {},
   "source": [
    "Seller with Highest Missing Data \n",
    "\n",
    "cancel_highest_missing_pid_data"
   ]
  },
  {
   "cell_type": "code",
   "execution_count": 131,
   "metadata": {},
   "outputs": [],
   "source": [
    "stmt_curr = Select(\n",
    "  dq_agg_sum.c.ord_date,\n",
    "  dq_agg_sum.c.seller_np,\n",
    "  func.sum(dq_agg_sum.c.missing_from_total).label(\"missing_val\")).where(\n",
    "    dq_agg_sum.c.ord_date==max_date).group_by(\n",
    "      dq_agg_sum.c.ord_date).group_by(\n",
    "    dq_agg_sum.c.seller_np).order_by(desc(func.sum(dq_agg_sum.c.missing_from_total)))"
   ]
  },
  {
   "cell_type": "code",
   "execution_count": 132,
   "metadata": {},
   "outputs": [
    {
     "name": "stdout",
     "output_type": "stream",
     "text": [
      "SELECT db_stage.aggregated_sum.ord_date, db_stage.aggregated_sum.seller_np, sum(db_stage.aggregated_sum.missing_from_total) AS missing_val \n",
      "FROM db_stage.aggregated_sum \n",
      "WHERE db_stage.aggregated_sum.ord_date = :ord_date_1 GROUP BY db_stage.aggregated_sum.ord_date, db_stage.aggregated_sum.seller_np ORDER BY sum(db_stage.aggregated_sum.missing_from_total) DESC\n"
     ]
    }
   ],
   "source": [
    "print(stmt_curr)"
   ]
  },
  {
   "cell_type": "code",
   "execution_count": 133,
   "metadata": {},
   "outputs": [],
   "source": [
    "result = run_stmt(stmt_curr, 5)"
   ]
  },
  {
   "cell_type": "code",
   "execution_count": 134,
   "metadata": {},
   "outputs": [],
   "source": [
    "df = pd.DataFrame(result)"
   ]
  },
  {
   "cell_type": "code",
   "execution_count": 135,
   "metadata": {},
   "outputs": [
    {
     "data": {
      "text/html": [
       "<div>\n",
       "<style scoped>\n",
       "    .dataframe tbody tr th:only-of-type {\n",
       "        vertical-align: middle;\n",
       "    }\n",
       "\n",
       "    .dataframe tbody tr th {\n",
       "        vertical-align: top;\n",
       "    }\n",
       "\n",
       "    .dataframe thead th {\n",
       "        text-align: right;\n",
       "    }\n",
       "</style>\n",
       "<table border=\"1\" class=\"dataframe\">\n",
       "  <thead>\n",
       "    <tr style=\"text-align: right;\">\n",
       "      <th></th>\n",
       "      <th>ord_date</th>\n",
       "      <th>seller_np</th>\n",
       "      <th>missing_val</th>\n",
       "    </tr>\n",
       "  </thead>\n",
       "  <tbody>\n",
       "    <tr>\n",
       "      <th>0</th>\n",
       "      <td>2024-06-25</td>\n",
       "      <td>ondc.snapdeal.com</td>\n",
       "      <td>3932</td>\n",
       "    </tr>\n",
       "    <tr>\n",
       "      <th>1</th>\n",
       "      <td>2024-06-25</td>\n",
       "      <td>agrimart.api.agrevolution.in</td>\n",
       "      <td>2849</td>\n",
       "    </tr>\n",
       "    <tr>\n",
       "      <th>2</th>\n",
       "      <td>2024-06-25</td>\n",
       "      <td>biz.polestarre.in</td>\n",
       "      <td>2588</td>\n",
       "    </tr>\n",
       "    <tr>\n",
       "      <th>3</th>\n",
       "      <td>2024-06-25</td>\n",
       "      <td>webapi.magicpin.in/oms_partner/ondc</td>\n",
       "      <td>2289</td>\n",
       "    </tr>\n",
       "    <tr>\n",
       "      <th>4</th>\n",
       "      <td>2024-06-25</td>\n",
       "      <td>agg.dominos.co.in</td>\n",
       "      <td>996</td>\n",
       "    </tr>\n",
       "  </tbody>\n",
       "</table>\n",
       "</div>"
      ],
      "text/plain": [
       "     ord_date                            seller_np missing_val\n",
       "0  2024-06-25                    ondc.snapdeal.com        3932\n",
       "1  2024-06-25         agrimart.api.agrevolution.in        2849\n",
       "2  2024-06-25                    biz.polestarre.in        2588\n",
       "3  2024-06-25  webapi.magicpin.in/oms_partner/ondc        2289\n",
       "4  2024-06-25                    agg.dominos.co.in         996"
      ]
     },
     "execution_count": 135,
     "metadata": {},
     "output_type": "execute_result"
    }
   ],
   "source": [
    "df"
   ]
  },
  {
   "cell_type": "code",
   "execution_count": 141,
   "metadata": {},
   "outputs": [],
   "source": [
    "json_frame = {\n",
    "  \"id\":\"\",\n",
    "  \"count\":\"\",\n",
    "  \"increased\":\"\",\n",
    "  \"variancePercentage\":\"\",\n",
    "  \"varianceText\":\"vs. Yesterday\"\n",
    "}\n",
    "json_str = \"\""
   ]
  },
  {
   "cell_type": "code",
   "execution_count": 139,
   "metadata": {},
   "outputs": [
    {
     "name": "stdout",
     "output_type": "stream",
     "text": [
      "0\n",
      "1\n",
      "2\n",
      "3\n",
      "4\n"
     ]
    }
   ],
   "source": [
    "for data in df.index:\n",
    "  json_frame"
   ]
  },
  {
   "cell_type": "code",
   "execution_count": 140,
   "metadata": {},
   "outputs": [
    {
     "data": {
      "text/plain": [
       "[{'id': 'ondc-otipy.crofarm.com',\n",
       "  'count': '0.81%',\n",
       "  'increased': True,\n",
       "  'variancePercentage': '1.2%',\n",
       "  'varianceText': 'vs. Yesterday'},\n",
       " {'id': 'ondc-otipy.crofarm.com',\n",
       "  'count': '0.81%',\n",
       "  'increased': True,\n",
       "  'variancePercentage': '1.2%',\n",
       "  'varianceText': 'vs. Yesterday'},\n",
       " {'id': 'ondc-otipy.crofarm.com',\n",
       "  'count': '0.81%',\n",
       "  'increased': True,\n",
       "  'variancePercentage': '1.2%',\n",
       "  'varianceText': 'vs. Yesterday'}]"
      ]
     },
     "execution_count": 140,
     "metadata": {},
     "output_type": "execute_result"
    }
   ],
   "source": [
    "[{'id': 'ondc-otipy.crofarm.com',\n",
    "  'count': '0.81%',\n",
    "  'increased': True,\n",
    "  'variancePercentage': '1.2%',\n",
    "  'varianceText': 'vs. Yesterday'},\n",
    " {'id': 'ondc-otipy.crofarm.com',\n",
    "  'count': '0.81%',\n",
    "  'increased': True,\n",
    "  'variancePercentage': '1.2%',\n",
    "  'varianceText': 'vs. Yesterday'},\n",
    " {'id': 'ondc-otipy.crofarm.com',\n",
    "  'count': '0.81%',\n",
    "  'increased': True,\n",
    "  'variancePercentage': '1.2%',\n",
    "  'varianceText': 'vs. Yesterday'}]"
   ]
  },
  {
   "cell_type": "code",
   "execution_count": null,
   "metadata": {},
   "outputs": [],
   "source": [
    "df"
   ]
  }
 ],
 "metadata": {
  "kernelspec": {
   "display_name": ".venv",
   "language": "python",
   "name": "python3"
  },
  "language_info": {
   "codemirror_mode": {
    "name": "ipython",
    "version": 3
   },
   "file_extension": ".py",
   "mimetype": "text/x-python",
   "name": "python",
   "nbconvert_exporter": "python",
   "pygments_lexer": "ipython3",
   "version": "3.12.4"
  }
 },
 "nbformat": 4,
 "nbformat_minor": 2
}
