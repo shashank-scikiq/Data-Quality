{
 "cells": [
  {
   "cell_type": "code",
   "execution_count": 8,
   "metadata": {},
   "outputs": [],
   "source": [
    "import sys\n",
    "sys.path.append(\"../\")"
   ]
  },
  {
   "cell_type": "code",
   "execution_count": 9,
   "metadata": {},
   "outputs": [],
   "source": [
    "import pandas as pd\n",
    "from datetime import datetime, timedelta\n",
    "import numpy as np\n",
    "import json"
   ]
  },
  {
   "cell_type": "code",
   "execution_count": 10,
   "metadata": {},
   "outputs": [],
   "source": [
    "import Misc.env_vars as ev"
   ]
  },
  {
   "cell_type": "code",
   "execution_count": 11,
   "metadata": {},
   "outputs": [],
   "source": [
    "from Models.models import od_dq_base, dq_agg_sum, dq_agg_view\n",
    "from Logic.base_queries import run_stmt\n",
    "import Misc.env_vars as ev"
   ]
  },
  {
   "cell_type": "code",
   "execution_count": 12,
   "metadata": {},
   "outputs": [],
   "source": [
    "from sqlalchemy import Select, func, or_, desc"
   ]
  },
  {
   "cell_type": "markdown",
   "metadata": {},
   "source": [
    "## Top Cards "
   ]
  },
  {
   "cell_type": "markdown",
   "metadata": {},
   "source": [
    "### Total Orders with Delta"
   ]
  },
  {
   "cell_type": "code",
   "execution_count": null,
   "metadata": {},
   "outputs": [],
   "source": [
    "dt_val = \"2024-06-25\""
   ]
  },
  {
   "cell_type": "code",
   "execution_count": null,
   "metadata": {},
   "outputs": [],
   "source": [
    "curr_dt = datetime.strptime(dt_val, \"%Y-%m-%d\")"
   ]
  },
  {
   "cell_type": "code",
   "execution_count": null,
   "metadata": {},
   "outputs": [],
   "source": [
    "prev_dt = curr_dt - timedelta(days=1)"
   ]
  },
  {
   "cell_type": "code",
   "execution_count": null,
   "metadata": {},
   "outputs": [],
   "source": [
    "top_cards = (\n",
    "    Select(\n",
    "        dq_agg_sum.c.ord_date.label(\"Order_Date\"),\n",
    "        func.sum(dq_agg_sum.c.total_orders).label(\"Total_Orders\"),\n",
    "        func.sum(dq_agg_sum.c.total_canceled_orders).label(\"Cancelled_Orders\")\n",
    "    ).where(or_(dq_agg_sum.c.ord_date == curr_dt, dq_agg_sum.c.ord_date == prev_dt))\n",
    "    .group_by(dq_agg_sum.c.ord_date)\n",
    "    .order_by(desc(dq_agg_sum.c.ord_date))\n",
    ")"
   ]
  },
  {
   "cell_type": "code",
   "execution_count": null,
   "metadata": {},
   "outputs": [],
   "source": [
    "print(top_cards)"
   ]
  },
  {
   "cell_type": "code",
   "execution_count": null,
   "metadata": {},
   "outputs": [],
   "source": [
    "res = run_stmt(top_cards)"
   ]
  },
  {
   "cell_type": "code",
   "execution_count": null,
   "metadata": {},
   "outputs": [],
   "source": [
    "df_temp = pd.DataFrame(res)"
   ]
  },
  {
   "cell_type": "code",
   "execution_count": null,
   "metadata": {},
   "outputs": [],
   "source": [
    "# df_temp.loc[:,[\"Order_Date\"]] = df_temp[\"Order_Date\"].astype()\n",
    "df_temp.loc[:,\"Total_Orders\"] = df_temp[\"Total_Orders\"].astype(int)\n",
    "df_temp.loc[:,\"Cancelled_Orders\"] = df_temp[\"Cancelled_Orders\"].astype(int)"
   ]
  },
  {
   "cell_type": "code",
   "execution_count": null,
   "metadata": {},
   "outputs": [],
   "source": [
    "df_temp[\"Cancel_percentage\"] = df_temp[\"Cancelled_Orders\"] / df_temp[\"Total_Orders\"]"
   ]
  },
  {
   "cell_type": "code",
   "execution_count": null,
   "metadata": {},
   "outputs": [],
   "source": [
    "df_temp[\"Completed_percentage\"] = (df_temp[\"Total_Orders\"] - df_temp[\"Cancelled_Orders\"])/ df_temp[\"Total_Orders\"]"
   ]
  },
  {
   "cell_type": "code",
   "execution_count": null,
   "metadata": {},
   "outputs": [],
   "source": [
    "df_temp"
   ]
  },
  {
   "cell_type": "code",
   "execution_count": null,
   "metadata": {},
   "outputs": [],
   "source": [
    "def calc_metrices(df: pd.DataFrame, col_name: str):\n",
    "    old_val = np.round(df[col_name][1],4)\n",
    "    new_val = np.round(df[col_name][0],4)\n",
    "    diff = new_val - old_val\n",
    "    per_diff = np.round((diff/old_val)*100,4)\n",
    "    return new_val, diff, per_diff"
   ]
  },
  {
   "cell_type": "code",
   "execution_count": null,
   "metadata": {},
   "outputs": [],
   "source": [
    "tt, td, tp = calc_metrices(df_temp, \"Total_Orders\")"
   ]
  },
  {
   "cell_type": "code",
   "execution_count": null,
   "metadata": {},
   "outputs": [],
   "source": [
    "total_orders = {\n",
    "    \"title\":\"Total Orders\",\n",
    "    \"count\": str(tt),\n",
    "    \"increased\" : False if td < 0 else True,\n",
    "    \"variancePercentage\" : str(tp),\n",
    "    \"varianceText\": \"vs Yesterday\"\n",
    "}"
   ]
  },
  {
   "cell_type": "code",
   "execution_count": null,
   "metadata": {},
   "outputs": [],
   "source": [
    "tc, cd, cp = calc_metrices(df_temp, \"Cancelled_Orders\")"
   ]
  },
  {
   "cell_type": "code",
   "execution_count": null,
   "metadata": {},
   "outputs": [],
   "source": [
    "total_cancellation = {\n",
    "    \"title\":\"Cancelled Orders\",\n",
    "    \"count\": str(tc),\n",
    "    \"increased\" : False if cd < 0 else True,\n",
    "    \"variancePercentage\" : str(cp),\n",
    "    \"varianceText\": \"vs Yesterday\"\n",
    "}"
   ]
  },
  {
   "cell_type": "code",
   "execution_count": null,
   "metadata": {},
   "outputs": [],
   "source": [
    "cct, ccd, ccp = calc_metrices(df_temp, \"Cancel_percentage\")"
   ]
  },
  {
   "cell_type": "code",
   "execution_count": null,
   "metadata": {},
   "outputs": [],
   "source": [
    "cct"
   ]
  },
  {
   "cell_type": "code",
   "execution_count": null,
   "metadata": {},
   "outputs": [],
   "source": [
    "cancel_percentage = {\n",
    "    \"title\":\"Order Cancellation %\",\n",
    "    \"count\": str(cct),\n",
    "    \"increased\" : False if ccd < 0 else True,\n",
    "    \"variancePercentage\" : str(ccp),\n",
    "    \"varianceText\": \"vs Yesterday\"\n",
    "}"
   ]
  },
  {
   "cell_type": "code",
   "execution_count": null,
   "metadata": {},
   "outputs": [],
   "source": [
    "cot, cod, cop = calc_metrices(df_temp, \"Completed_percentage\")"
   ]
  },
  {
   "cell_type": "code",
   "execution_count": null,
   "metadata": {},
   "outputs": [],
   "source": [
    "compl_percentage = {\n",
    "    \"title\":\"Order Completion %\",\n",
    "    \"count\": str(cot),\n",
    "    \"increased\" : False if cod < 0 else True,\n",
    "    \"variancePercentage\" : str(cop),\n",
    "    \"varianceText\": \"vs Yesterday\"\n",
    "}"
   ]
  },
  {
   "cell_type": "code",
   "execution_count": null,
   "metadata": {},
   "outputs": [],
   "source": [
    "final_list = [total_orders, total_cancellation, cancel_percentage,compl_percentage]"
   ]
  },
  {
   "cell_type": "code",
   "execution_count": null,
   "metadata": {},
   "outputs": [],
   "source": [
    "final_list"
   ]
  },
  {
   "cell_type": "markdown",
   "metadata": {},
   "source": [
    "## Missing Columns Completed"
   ]
  },
  {
   "cell_type": "code",
   "execution_count": null,
   "metadata": {},
   "outputs": [],
   "source": [
    "col_sum_comp = (\n",
    "    Select(\n",
    "        dq_agg_view.c.ord_date, \n",
    "        func.sum(dq_agg_view.c.total_orders).label(\"total_orders\"),\n",
    "        func.sum(dq_agg_view.c.null_fulfilment_id).label(\"null_fulfilment_id\"),\n",
    "        func.sum(dq_agg_view.c.null_net_tran_id).label(\"null_net_tran_id\"),\n",
    "        func.sum(dq_agg_view.c.null_qty.label(\"null_qty\")),\n",
    "        func.sum(dq_agg_view.c.null_itm_fulfilment_id).label(\"null_itm_fulfilment_id\"),\n",
    "        func.sum(dq_agg_view.c.null_del_pc).label(\"null_del_pc\"),\n",
    "        func.sum(dq_agg_view.c.null_created_date_time).label(\"null_created_date_time\"),\n",
    "        func.sum(dq_agg_view.c.null_domain).label(\"null_domain\"),\n",
    "        func.sum(dq_agg_view.c.null_del_cty).label(\"null_del_cty\"),\n",
    "        func.sum(dq_agg_view.c.null_ord_stats).label(\"null_ord_stats\"),\n",
    "        func.sum(dq_agg_view.c.null_fulfil_status).label(\"null_fulfil_status\"),\n",
    "        func.sum(dq_agg_view.c.null_itm_cat).label(\"null_itm_cat\"),\n",
    "        func.sum(dq_agg_view.c.null_cat_cons).label(\"null_cat_cons\"),\n",
    "        func.sum(dq_agg_view.c.null_sell_pincode).label(\"null_sell_pincode\"),\n",
    "        func.sum(dq_agg_view.c.null_prov_id).label(\"null_prov_id\"),\n",
    "        func.sum(dq_agg_view.c.null_itm_id).label(\"null_itm_id\"),\n",
    "        func.sum(dq_agg_view.c.null_sell_np).label(\"null_sell_np\"),\n",
    "        func.sum(dq_agg_view.c.null_net_ord_id).label(\"null_net_ord_id\"),\n",
    "        func.sum(dq_agg_view.c.null_sell_cty).label(\"null_sell_cty\"),\n",
    "    ).where(or_(dq_agg_view.c.ord_date==curr_dt, dq_agg_view.c.ord_date==prev_dt))\n",
    "    .group_by(dq_agg_view.c.ord_date)\n",
    "    .order_by(desc(dq_agg_view.c.ord_date))\n",
    ")"
   ]
  },
  {
   "cell_type": "code",
   "execution_count": null,
   "metadata": {},
   "outputs": [],
   "source": [
    "col_sum_canc = (\n",
    "    Select(\n",
    "        dq_agg_view.c.ord_date, \n",
    "        func.sum(dq_agg_view.c.total_canceled_orders).label(\"total_canceled_orders\"),\n",
    "        func.sum(dq_agg_view.c.null_cans_code).label(\"null_cans_code\"),\n",
    "        func.sum(dq_agg_view.c.null_cans_dt_time).label(\"null_cans_dt_time\")\n",
    "    ).where(or_(dq_agg_view.c.ord_date==curr_dt, dq_agg_view.c.ord_date==prev_dt))\n",
    "    .group_by(dq_agg_view.c.ord_date)\n",
    "    .order_by(desc(dq_agg_view.c.ord_date))\n",
    ")"
   ]
  },
  {
   "cell_type": "code",
   "execution_count": null,
   "metadata": {},
   "outputs": [],
   "source": [
    "print(col_sum_comp)"
   ]
  },
  {
   "cell_type": "code",
   "execution_count": null,
   "metadata": {},
   "outputs": [],
   "source": [
    "res = run_stmt(col_sum_comp)"
   ]
  },
  {
   "cell_type": "code",
   "execution_count": null,
   "metadata": {},
   "outputs": [],
   "source": [
    "res_canc = run_stmt(col_sum_canc)"
   ]
  },
  {
   "cell_type": "code",
   "execution_count": null,
   "metadata": {},
   "outputs": [],
   "source": [
    "tmp_canc = pd.DataFrame(res_canc)"
   ]
  },
  {
   "cell_type": "code",
   "execution_count": null,
   "metadata": {},
   "outputs": [],
   "source": [
    "tmp_canc"
   ]
  },
  {
   "cell_type": "code",
   "execution_count": null,
   "metadata": {},
   "outputs": [],
   "source": [
    "tmp_df = pd.DataFrame(res)"
   ]
  },
  {
   "cell_type": "code",
   "execution_count": null,
   "metadata": {},
   "outputs": [],
   "source": [
    "tmp_df"
   ]
  },
  {
   "cell_type": "code",
   "execution_count": null,
   "metadata": {},
   "outputs": [],
   "source": [
    "per_df = pd.DataFrame()"
   ]
  },
  {
   "cell_type": "code",
   "execution_count": null,
   "metadata": {},
   "outputs": [],
   "source": [
    "per_df[\"ord_date\"] = tmp_df[\"ord_date\"]"
   ]
  },
  {
   "cell_type": "code",
   "execution_count": null,
   "metadata": {},
   "outputs": [],
   "source": [
    "# per_df[\"\"]"
   ]
  },
  {
   "cell_type": "markdown",
   "metadata": {},
   "source": [
    "### Calculate Percentage and Difference "
   ]
  },
  {
   "cell_type": "code",
   "execution_count": null,
   "metadata": {},
   "outputs": [],
   "source": [
    "curr_total = int(tmp_df[\"total_orders\"][0])\n",
    "curr_total"
   ]
  },
  {
   "cell_type": "code",
   "execution_count": null,
   "metadata": {},
   "outputs": [],
   "source": [
    "res = []\n",
    "tmp_dict = {}\n",
    "\n",
    "for col in tmp_df.columns:\n",
    "    if col.__contains__(\"null\"):\n",
    "        per = np.round((int(tmp_df[col][0])/curr_total)*100,4)\n",
    "        if per > 0:\n",
    "            tmp_dict = {}\n",
    "            tmp_dict['title'] = ev.cols_dict[col]\n",
    "            tmp_dict['series'] = [per]\n",
    "            res.append(tmp_dict)"
   ]
  },
  {
   "cell_type": "code",
   "execution_count": null,
   "metadata": {},
   "outputs": [],
   "source": [
    "res"
   ]
  },
  {
   "cell_type": "markdown",
   "metadata": {},
   "source": [
    "## Totals Trend"
   ]
  },
  {
   "cell_type": "code",
   "execution_count": null,
   "metadata": {},
   "outputs": [],
   "source": [
    "ord_trend = (\n",
    "    Select(\n",
    "        dq_agg_view.c.ord_date.label(\"ord_date\"),\n",
    "        func.sum(dq_agg_view.c.total_orders).label(\"total_orders\"),\n",
    "        func.sum(dq_agg_view.c.null_fulfilment_id).label(\"null_fulfilment_id\"),\n",
    "        func.sum(dq_agg_view.c.null_net_tran_id).label(\"null_net_tran_id\"),\n",
    "        func.sum(dq_agg_view.c.null_qty).label(\"null_qty\"),\n",
    "        func.sum(dq_agg_view.c.null_itm_fulfilment_id).label(\"null_itm_fulfilment_id\"),\n",
    "        func.sum(dq_agg_view.c.null_del_pc).label(\"null_del_pc\"),\n",
    "        func.sum(dq_agg_view.c.null_created_date_time).label(\"null_created_date_time\"),\n",
    "        func.sum(dq_agg_view.c.null_domain).label(\"null_domain\"),\n",
    "        func.sum(dq_agg_view.c.null_del_cty).label(\"null_del_cty\"),\n",
    "        func.sum(dq_agg_view.c.null_ord_stats).label(\"null_ord_stats\"),\n",
    "        func.sum(dq_agg_view.c.null_fulfil_status).label(\"null_fulfil_status\"),\n",
    "        func.sum(dq_agg_view.c.null_itm_cat).label(\"null_itm_cat\"),\n",
    "        func.sum(dq_agg_view.c.null_cat_cons).label(\"null_cat_cons\"),\n",
    "        func.sum(dq_agg_view.c.null_sell_pincode).label(\"null_sell_pincode\"),\n",
    "        func.sum(dq_agg_view.c.null_prov_id).label(\"null_prov_id\"),\n",
    "        func.sum(dq_agg_view.c.null_itm_id).label(\"null_itm_id\"),\n",
    "        func.sum(dq_agg_view.c.null_sell_np).label(\"null_sell_np\"),\n",
    "        func.sum(dq_agg_view.c.null_net_ord_id).label(\"null_net_ord_id\"),\n",
    "        func.sum(dq_agg_view.c.null_sell_cty).label(\"null_sell_cty\"),\n",
    "        func.sum(dq_agg_view.c.total_canceled_orders).label(\"total_canceled_orders\"),\n",
    "        func.sum(dq_agg_view.c.null_cans_code).label(\"null_cans_code\"),\n",
    "        func.sum(dq_agg_view.c.null_cans_dt_time).label(\"null_cans_dt_time\") \n",
    "    ).group_by(dq_agg_view.c.ord_date)\n",
    "    .order_by(desc(dq_agg_view.c.ord_date))\n",
    ")"
   ]
  },
  {
   "cell_type": "code",
   "execution_count": null,
   "metadata": {},
   "outputs": [],
   "source": [
    "df_trend = pd.DataFrame(run_stmt(ord_trend))"
   ]
  },
  {
   "cell_type": "code",
   "execution_count": null,
   "metadata": {},
   "outputs": [],
   "source": [
    "df_trend.head(5)"
   ]
  },
  {
   "cell_type": "code",
   "execution_count": null,
   "metadata": {},
   "outputs": [],
   "source": [
    "df_big = pd.DataFrame()\n",
    "df_small = pd.DataFrame()\n",
    "\n",
    "df_big[ev.cols_dict[\"ord_date\"]] = df_trend[[\"ord_date\"]]\n",
    "df_small[ev.cols_dict[\"ord_date\"]] = df_trend[[\"ord_date\"]]"
   ]
  },
  {
   "cell_type": "code",
   "execution_count": null,
   "metadata": {},
   "outputs": [],
   "source": [
    "df_big.head(5)"
   ]
  },
  {
   "cell_type": "code",
   "execution_count": null,
   "metadata": {},
   "outputs": [],
   "source": [
    "for col in df_trend.columns:\n",
    "    if col not in [\"ord_date\", \"total_orders\"]:\n",
    "        try:\n",
    "            mean_trend = df_trend[col].mean() \n",
    "            if mean_trend > 0:\n",
    "                if mean_trend > 500:\n",
    "                    df_big.loc[:,[ev.cols_dict[col]]] = df_trend[col]\n",
    "                elif mean_trend < 500 and mean_trend > 1:\n",
    "                    df_small.loc[:,[ev.cols_dict[col]]] = df_trend[col]\n",
    "                # print(col, df_trend[col].mean())\n",
    "        except:\n",
    "            pass"
   ]
  },
  {
   "cell_type": "code",
   "execution_count": null,
   "metadata": {},
   "outputs": [],
   "source": [
    "df_big.head(5)"
   ]
  },
  {
   "cell_type": "code",
   "execution_count": null,
   "metadata": {},
   "outputs": [],
   "source": [
    "sns.lineplot(df_big)"
   ]
  },
  {
   "cell_type": "code",
   "execution_count": null,
   "metadata": {},
   "outputs": [],
   "source": [
    "df_big.to_json()"
   ]
  },
  {
   "cell_type": "code",
   "execution_count": null,
   "metadata": {},
   "outputs": [],
   "source": [
    "df_small.head(5)"
   ]
  },
  {
   "cell_type": "markdown",
   "metadata": {},
   "source": [
    "Jsonify"
   ]
  },
  {
   "cell_type": "code",
   "execution_count": null,
   "metadata": {},
   "outputs": [],
   "source": []
  },
  {
   "cell_type": "code",
   "execution_count": null,
   "metadata": {},
   "outputs": [],
   "source": [
    "df_big.info()"
   ]
  },
  {
   "cell_type": "code",
   "execution_count": null,
   "metadata": {},
   "outputs": [],
   "source": [
    "for col in df_big.columns:\n",
    "    try:\n",
    "        if col != \"Order Date\":\n",
    "            df_big.loc[:,[col]] = df_big[col].astype(int)\n",
    "    except:\n",
    "        pass"
   ]
  },
  {
   "cell_type": "code",
   "execution_count": null,
   "metadata": {},
   "outputs": [],
   "source": [
    "test_dict = df_big.head(5).to_dict()"
   ]
  },
  {
   "cell_type": "code",
   "execution_count": null,
   "metadata": {},
   "outputs": [],
   "source": [
    "test_dict.keys()"
   ]
  },
  {
   "cell_type": "code",
   "execution_count": null,
   "metadata": {},
   "outputs": [],
   "source": [
    "res_dict = {}\n",
    "output = []"
   ]
  },
  {
   "cell_type": "code",
   "execution_count": null,
   "metadata": {},
   "outputs": [],
   "source": [
    "[val for val in test_dict[\"Delivery City\"].values()]"
   ]
  },
  {
   "cell_type": "code",
   "execution_count": null,
   "metadata": {},
   "outputs": [],
   "source": [
    "for key in test_dict.keys():\n",
    "    if key not in (\"Order Date\",\"categories\"):\n",
    "        print(key)\n",
    "        res_dict = {}\n",
    "        res_dict[\"name\"] = key\n",
    "        res_dict[\"data\"] = [val for val in test_dict[key].values()]\n",
    "        output.append(res_dict)"
   ]
  },
  {
   "cell_type": "code",
   "execution_count": null,
   "metadata": {},
   "outputs": [],
   "source": [
    "dct[\"categories\"]"
   ]
  }
 ],
 "metadata": {
  "kernelspec": {
   "display_name": ".venv",
   "language": "python",
   "name": "python3"
  },
  "language_info": {
   "codemirror_mode": {
    "name": "ipython",
    "version": 3
   },
   "file_extension": ".py",
   "mimetype": "text/x-python",
   "name": "python",
   "nbconvert_exporter": "python",
   "pygments_lexer": "ipython3",
   "version": "3.12.4"
  }
 },
 "nbformat": 4,
 "nbformat_minor": 2
}
