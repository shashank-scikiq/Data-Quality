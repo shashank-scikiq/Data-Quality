{
 "cells": [
  {
   "cell_type": "code",
   "execution_count": 40,
   "metadata": {},
   "outputs": [],
   "source": [
    "import models as mdl\n",
    "import numpy as np\n",
    "from dataclasses import dataclass\n",
    "import pandas as pd"
   ]
  },
  {
   "cell_type": "code",
   "execution_count": 41,
   "metadata": {},
   "outputs": [],
   "source": [
    "from datetime import timedelta, datetime"
   ]
  },
  {
   "cell_type": "markdown",
   "metadata": {},
   "source": [
    "### Metrices\n",
    "\n",
    "- Top cards Missing Stats: \n",
    "    - "
   ]
  },
  {
   "cell_type": "code",
   "execution_count": 2,
   "metadata": {},
   "outputs": [],
   "source": [
    "@dataclass\n",
    "class highMissNp:\n",
    "    name: str =\"\"\n",
    "    missing_percentage: float = \"\"\n",
    "    high_col: str = \"\""
   ]
  },
  {
   "cell_type": "code",
   "execution_count": 3,
   "metadata": {},
   "outputs": [],
   "source": [
    "min_ord_date, max_ord_date = mdl.get_date_range()\n",
    "cols_dict = mdl.cols_dict"
   ]
  },
  {
   "cell_type": "code",
   "execution_count": 4,
   "metadata": {},
   "outputs": [],
   "source": [
    "null_cols_comp = [x for x in mdl.get_columns() if x.__contains__('null') and not x.__contains__('cans')]\n",
    "null_cols_canc = [x for x in mdl.get_columns() if x.__contains__('null') and x.__contains__('cans')]\n",
    "null_cols_all = [x for x in mdl.get_columns() if x.__contains__('null')]\n",
    "\n",
    "\n",
    "# dt = date_input(\"Select a Date\", value=max_ord_date, min_value=min_ord_date, max_value=max_ord_date)\n",
    "dt = max_ord_date\n",
    "option_comp = [cols_dict[x] for x in null_cols_comp]\n",
    "seller_name = [x[0] for x in mdl.get_sellers(dt)]\n"
   ]
  },
  {
   "cell_type": "code",
   "execution_count": 5,
   "metadata": {},
   "outputs": [],
   "source": [
    "fltr_val = \"\"\n",
    "for key in cols_dict.keys():\n",
    "    if cols_dict[key] == option_comp:\n",
    "        fltr_val = key"
   ]
  },
  {
   "cell_type": "code",
   "execution_count": 6,
   "metadata": {},
   "outputs": [
    {
     "data": {
      "text/plain": [
       "{'curr_date': 'Current Date',\n",
       " 'ord_date': 'Order Date',\n",
       " 'seller_np': 'Seller NP',\n",
       " 'null_fulfilment_id': 'Fulfilment ID',\n",
       " 'null_net_tran_id': 'Net Transaction ID',\n",
       " 'null_qty': 'Quantity',\n",
       " 'null_itm_fulfilment_id': 'Item Fulfilment ID',\n",
       " 'null_del_pc': 'Delivery Pincode',\n",
       " 'null_created_date_time': 'Created Date',\n",
       " 'null_domain': 'Domain',\n",
       " 'null_del_cty': 'Delivery City',\n",
       " 'null_cans_code': 'Cancellation Code',\n",
       " 'null_cans_dt_time': 'Cancellation Date',\n",
       " 'null_ord_stats': 'Order Status',\n",
       " 'null_fulfil_status': 'Fulfilment Status',\n",
       " 'null_itm_cat': 'Item Category',\n",
       " 'null_cat_cons': 'Category',\n",
       " 'null_sell_pincode': 'Seller Pincode',\n",
       " 'null_prov_id': 'Provider ID',\n",
       " 'null_itm_id': 'Item ID',\n",
       " 'null_sell_np': 'Null Seller NP',\n",
       " 'null_net_ord_id': 'Network Order ID',\n",
       " 'null_sell_cty': 'Seller City'}"
      ]
     },
     "execution_count": 6,
     "metadata": {},
     "output_type": "execute_result"
    }
   ],
   "source": [
    "cols_dict"
   ]
  },
  {
   "cell_type": "markdown",
   "metadata": {},
   "source": [
    "### Top N NULL provider NPs"
   ]
  },
  {
   "cell_type": "code",
   "execution_count": 7,
   "metadata": {},
   "outputs": [],
   "source": [
    "n = 5"
   ]
  },
  {
   "cell_type": "code",
   "execution_count": 8,
   "metadata": {},
   "outputs": [],
   "source": [
    "missing_col = mdl.load_missing_pc(dt_val=dt, col_name=\"null_del_cty\", total=0)"
   ]
  },
  {
   "cell_type": "code",
   "execution_count": 53,
   "metadata": {},
   "outputs": [
    {
     "data": {
      "text/plain": [
       "[('biz.polestarre.in', 2588, 4842),\n",
       " ('webapi.magicpin.in/oms_partner/ondc', 1517, 58320),\n",
       " ('agg.dominos.co.in', 452, 5123),\n",
       " ('ondc.kiko.live/ondc-seller', 368, 1758),\n",
       " ('biz.ondc.rebelfoods.com', 216, 709),\n",
       " ('ondc-prod.uengage.in', 122, 1274),\n",
       " ('ondc.gofrugal.com', 122, 223),\n",
       " ('prod-sellerapp.shiprocket.com', 120, 226),\n",
       " ('ondc-otipy.crofarm.com', 110, 60882),\n",
       " ('prod-myfitness-bpp.shopalyst.com', 101, 165),\n",
       " ('ondc.addble.com', 83, 147),\n",
       " ('sellerappapi.ninjacart.in', 78, 121),\n",
       " ('api.eksecond.in', 76, 287),\n",
       " ('cloud-adaptor.proteantech.in/api/seller/adaptor/ndhgo', 70, 127),\n",
       " ('ondc-prod.moreretail.net', 66, 122),\n",
       " ('shikhar-ondc.hulcd.com', 57, 79),\n",
       " ('biz.enstore.com', 48, 1127),\n",
       " ('retailconnect.co.in', 44, 65),\n",
       " ('api.esamudaay.com/ondc/sdk/bpp/retail/bzspr', 40, 87),\n",
       " ('biz.ondc.mcdindia.com', 31, 46),\n",
       " ('ondc.xpressbaazaar.com', 22, 36),\n",
       " ('prod.growthfalcons.com/v1/gf', 21, 802),\n",
       " ('ondcmp.nlincs.in', 19, 1121),\n",
       " ('integrations.channelier.com', 14, 37),\n",
       " ('ondc.sellerapp.in', 12, 22),\n",
       " ('prod-eatanytime-bpp.shopalyst.com', 10, 17),\n",
       " ('api.esamudaay.com/ondc/sdk/bpp/retail/uespl', 9, 27),\n",
       " ('ondc.thrivenow.in', 7, 12),\n",
       " ('prd.mystore.in', 6, 350),\n",
       " ('apigateway.bizom.in/ondc', 6, 17),\n",
       " ('ondc.chattybao.com/ondc', 6, 12),\n",
       " ('prod-villain-bpp.shopalyst.com', 4, 4),\n",
       " ('prod-gonoise-bpp.shopalyst.com', 4, 4),\n",
       " ('prod-boat-bpp.shopalyst.com', 3, 6),\n",
       " ('pep1.in', 2, 2),\n",
       " ('prod-wellify-bpp.shopalyst.com', 2, 3),\n",
       " ('prod-thebodyshop-bpp.shopalyst.com', 2, 2),\n",
       " ('ondc.brandshops.info', 2, 4),\n",
       " ('prod-alpino-bpp.shopalyst.com', 1, 1),\n",
       " ('ondcseller-prod.costbo.com', 1, 6)]"
      ]
     },
     "execution_count": 53,
     "metadata": {},
     "output_type": "execute_result"
    }
   ],
   "source": [
    "missing_col"
   ]
  },
  {
   "cell_type": "code",
   "execution_count": 9,
   "metadata": {},
   "outputs": [],
   "source": [
    "df = pd.DataFrame(missing_col)"
   ]
  },
  {
   "cell_type": "code",
   "execution_count": 10,
   "metadata": {},
   "outputs": [],
   "source": [
    "act_col = df.columns[1]"
   ]
  },
  {
   "cell_type": "code",
   "execution_count": 11,
   "metadata": {},
   "outputs": [
    {
     "data": {
      "text/html": [
       "<div>\n",
       "<style scoped>\n",
       "    .dataframe tbody tr th:only-of-type {\n",
       "        vertical-align: middle;\n",
       "    }\n",
       "\n",
       "    .dataframe tbody tr th {\n",
       "        vertical-align: top;\n",
       "    }\n",
       "\n",
       "    .dataframe thead th {\n",
       "        text-align: right;\n",
       "    }\n",
       "</style>\n",
       "<table border=\"1\" class=\"dataframe\">\n",
       "  <thead>\n",
       "    <tr style=\"text-align: right;\">\n",
       "      <th></th>\n",
       "      <th>seller_np</th>\n",
       "      <th>null_del_cty</th>\n",
       "      <th>total_orders</th>\n",
       "    </tr>\n",
       "  </thead>\n",
       "  <tbody>\n",
       "    <tr>\n",
       "      <th>0</th>\n",
       "      <td>biz.polestarre.in</td>\n",
       "      <td>2588</td>\n",
       "      <td>4842</td>\n",
       "    </tr>\n",
       "    <tr>\n",
       "      <th>1</th>\n",
       "      <td>webapi.magicpin.in/oms_partner/ondc</td>\n",
       "      <td>1517</td>\n",
       "      <td>58320</td>\n",
       "    </tr>\n",
       "    <tr>\n",
       "      <th>2</th>\n",
       "      <td>agg.dominos.co.in</td>\n",
       "      <td>452</td>\n",
       "      <td>5123</td>\n",
       "    </tr>\n",
       "    <tr>\n",
       "      <th>3</th>\n",
       "      <td>ondc.kiko.live/ondc-seller</td>\n",
       "      <td>368</td>\n",
       "      <td>1758</td>\n",
       "    </tr>\n",
       "    <tr>\n",
       "      <th>4</th>\n",
       "      <td>biz.ondc.rebelfoods.com</td>\n",
       "      <td>216</td>\n",
       "      <td>709</td>\n",
       "    </tr>\n",
       "  </tbody>\n",
       "</table>\n",
       "</div>"
      ],
      "text/plain": [
       "                             seller_np  null_del_cty  total_orders\n",
       "0                    biz.polestarre.in          2588          4842\n",
       "1  webapi.magicpin.in/oms_partner/ondc          1517         58320\n",
       "2                    agg.dominos.co.in           452          5123\n",
       "3           ondc.kiko.live/ondc-seller           368          1758\n",
       "4              biz.ondc.rebelfoods.com           216           709"
      ]
     },
     "execution_count": 11,
     "metadata": {},
     "output_type": "execute_result"
    }
   ],
   "source": [
    "df.head(5)"
   ]
  },
  {
   "cell_type": "code",
   "execution_count": 12,
   "metadata": {},
   "outputs": [],
   "source": [
    "df[\"missing_percentage\"] = df[act_col] / df[\"total_orders\"]"
   ]
  },
  {
   "cell_type": "code",
   "execution_count": 13,
   "metadata": {},
   "outputs": [
    {
     "data": {
      "text/html": [
       "<div>\n",
       "<style scoped>\n",
       "    .dataframe tbody tr th:only-of-type {\n",
       "        vertical-align: middle;\n",
       "    }\n",
       "\n",
       "    .dataframe tbody tr th {\n",
       "        vertical-align: top;\n",
       "    }\n",
       "\n",
       "    .dataframe thead th {\n",
       "        text-align: right;\n",
       "    }\n",
       "</style>\n",
       "<table border=\"1\" class=\"dataframe\">\n",
       "  <thead>\n",
       "    <tr style=\"text-align: right;\">\n",
       "      <th></th>\n",
       "      <th>seller_np</th>\n",
       "      <th>null_del_cty</th>\n",
       "      <th>total_orders</th>\n",
       "      <th>missing_percentage</th>\n",
       "    </tr>\n",
       "  </thead>\n",
       "  <tbody>\n",
       "    <tr>\n",
       "      <th>0</th>\n",
       "      <td>biz.polestarre.in</td>\n",
       "      <td>2588</td>\n",
       "      <td>4842</td>\n",
       "      <td>0.534490</td>\n",
       "    </tr>\n",
       "    <tr>\n",
       "      <th>1</th>\n",
       "      <td>webapi.magicpin.in/oms_partner/ondc</td>\n",
       "      <td>1517</td>\n",
       "      <td>58320</td>\n",
       "      <td>0.026012</td>\n",
       "    </tr>\n",
       "    <tr>\n",
       "      <th>2</th>\n",
       "      <td>agg.dominos.co.in</td>\n",
       "      <td>452</td>\n",
       "      <td>5123</td>\n",
       "      <td>0.088230</td>\n",
       "    </tr>\n",
       "    <tr>\n",
       "      <th>3</th>\n",
       "      <td>ondc.kiko.live/ondc-seller</td>\n",
       "      <td>368</td>\n",
       "      <td>1758</td>\n",
       "      <td>0.209329</td>\n",
       "    </tr>\n",
       "    <tr>\n",
       "      <th>4</th>\n",
       "      <td>biz.ondc.rebelfoods.com</td>\n",
       "      <td>216</td>\n",
       "      <td>709</td>\n",
       "      <td>0.304654</td>\n",
       "    </tr>\n",
       "  </tbody>\n",
       "</table>\n",
       "</div>"
      ],
      "text/plain": [
       "                             seller_np  null_del_cty  total_orders  \\\n",
       "0                    biz.polestarre.in          2588          4842   \n",
       "1  webapi.magicpin.in/oms_partner/ondc          1517         58320   \n",
       "2                    agg.dominos.co.in           452          5123   \n",
       "3           ondc.kiko.live/ondc-seller           368          1758   \n",
       "4              biz.ondc.rebelfoods.com           216           709   \n",
       "\n",
       "   missing_percentage  \n",
       "0            0.534490  \n",
       "1            0.026012  \n",
       "2            0.088230  \n",
       "3            0.209329  \n",
       "4            0.304654  "
      ]
     },
     "execution_count": 13,
     "metadata": {},
     "output_type": "execute_result"
    }
   ],
   "source": [
    "df.head(5)"
   ]
  },
  {
   "cell_type": "code",
   "execution_count": 14,
   "metadata": {},
   "outputs": [],
   "source": [
    "df.sort_values(by=\"missing_percentage\", ascending=False, inplace=True)"
   ]
  },
  {
   "cell_type": "code",
   "execution_count": 15,
   "metadata": {},
   "outputs": [],
   "source": [
    "top_3 = df[df[\"missing_percentage\"] < 1][:n]"
   ]
  },
  {
   "cell_type": "code",
   "execution_count": 16,
   "metadata": {},
   "outputs": [],
   "source": [
    "top_3.reset_index(inplace=True, drop=True)"
   ]
  },
  {
   "cell_type": "code",
   "execution_count": 17,
   "metadata": {},
   "outputs": [
    {
     "data": {
      "text/html": [
       "<div>\n",
       "<style scoped>\n",
       "    .dataframe tbody tr th:only-of-type {\n",
       "        vertical-align: middle;\n",
       "    }\n",
       "\n",
       "    .dataframe tbody tr th {\n",
       "        vertical-align: top;\n",
       "    }\n",
       "\n",
       "    .dataframe thead th {\n",
       "        text-align: right;\n",
       "    }\n",
       "</style>\n",
       "<table border=\"1\" class=\"dataframe\">\n",
       "  <thead>\n",
       "    <tr style=\"text-align: right;\">\n",
       "      <th></th>\n",
       "      <th>seller_np</th>\n",
       "      <th>null_del_cty</th>\n",
       "      <th>total_orders</th>\n",
       "      <th>missing_percentage</th>\n",
       "    </tr>\n",
       "  </thead>\n",
       "  <tbody>\n",
       "    <tr>\n",
       "      <th>0</th>\n",
       "      <td>shikhar-ondc.hulcd.com</td>\n",
       "      <td>57</td>\n",
       "      <td>79</td>\n",
       "      <td>0.721519</td>\n",
       "    </tr>\n",
       "    <tr>\n",
       "      <th>1</th>\n",
       "      <td>retailconnect.co.in</td>\n",
       "      <td>44</td>\n",
       "      <td>65</td>\n",
       "      <td>0.676923</td>\n",
       "    </tr>\n",
       "    <tr>\n",
       "      <th>2</th>\n",
       "      <td>biz.ondc.mcdindia.com</td>\n",
       "      <td>31</td>\n",
       "      <td>46</td>\n",
       "      <td>0.673913</td>\n",
       "    </tr>\n",
       "    <tr>\n",
       "      <th>3</th>\n",
       "      <td>prod-wellify-bpp.shopalyst.com</td>\n",
       "      <td>2</td>\n",
       "      <td>3</td>\n",
       "      <td>0.666667</td>\n",
       "    </tr>\n",
       "    <tr>\n",
       "      <th>4</th>\n",
       "      <td>sellerappapi.ninjacart.in</td>\n",
       "      <td>78</td>\n",
       "      <td>121</td>\n",
       "      <td>0.644628</td>\n",
       "    </tr>\n",
       "  </tbody>\n",
       "</table>\n",
       "</div>"
      ],
      "text/plain": [
       "                        seller_np  null_del_cty  total_orders  \\\n",
       "0          shikhar-ondc.hulcd.com            57            79   \n",
       "1             retailconnect.co.in            44            65   \n",
       "2           biz.ondc.mcdindia.com            31            46   \n",
       "3  prod-wellify-bpp.shopalyst.com             2             3   \n",
       "4       sellerappapi.ninjacart.in            78           121   \n",
       "\n",
       "   missing_percentage  \n",
       "0            0.721519  \n",
       "1            0.676923  \n",
       "2            0.673913  \n",
       "3            0.666667  \n",
       "4            0.644628  "
      ]
     },
     "execution_count": 17,
     "metadata": {},
     "output_type": "execute_result"
    }
   ],
   "source": [
    "top_3"
   ]
  },
  {
   "cell_type": "code",
   "execution_count": 18,
   "metadata": {},
   "outputs": [
    {
     "data": {
      "text/plain": [
       "'shikhar-ondc.hulcd.com'"
      ]
     },
     "execution_count": 18,
     "metadata": {},
     "output_type": "execute_result"
    }
   ],
   "source": [
    "top_3[\"seller_np\"][0]"
   ]
  },
  {
   "cell_type": "code",
   "execution_count": 19,
   "metadata": {},
   "outputs": [],
   "source": [
    "high_np1 = highMissNp(top_3[\"seller_np\"][0], \n",
    "                        np.round(top_3[\"missing_percentage\"][0],3),\n",
    "                        act_col)"
   ]
  },
  {
   "cell_type": "code",
   "execution_count": 20,
   "metadata": {},
   "outputs": [
    {
     "data": {
      "text/plain": [
       "highMissNp(name='shikhar-ondc.hulcd.com', missing_percentage=0.722, high_col='null_del_cty')"
      ]
     },
     "execution_count": 20,
     "metadata": {},
     "output_type": "execute_result"
    }
   ],
   "source": [
    "high_np1"
   ]
  },
  {
   "cell_type": "code",
   "execution_count": 21,
   "metadata": {},
   "outputs": [],
   "source": [
    "# def top_"
   ]
  },
  {
   "cell_type": "markdown",
   "metadata": {},
   "source": [
    "### Cancellations and Total Orders"
   ]
  },
  {
   "cell_type": "code",
   "execution_count": 22,
   "metadata": {},
   "outputs": [],
   "source": [
    "df_cc, df_canc = mdl.get_per_col(dt)"
   ]
  },
  {
   "cell_type": "code",
   "execution_count": 23,
   "metadata": {},
   "outputs": [
    {
     "data": {
      "text/html": [
       "<div>\n",
       "<style scoped>\n",
       "    .dataframe tbody tr th:only-of-type {\n",
       "        vertical-align: middle;\n",
       "    }\n",
       "\n",
       "    .dataframe tbody tr th {\n",
       "        vertical-align: top;\n",
       "    }\n",
       "\n",
       "    .dataframe thead th {\n",
       "        text-align: right;\n",
       "    }\n",
       "</style>\n",
       "<table border=\"1\" class=\"dataframe\">\n",
       "  <thead>\n",
       "    <tr style=\"text-align: right;\">\n",
       "      <th></th>\n",
       "      <th>null_cans_code</th>\n",
       "      <th>null_cans_dt_time</th>\n",
       "      <th>total_canceled_orders</th>\n",
       "    </tr>\n",
       "  </thead>\n",
       "  <tbody>\n",
       "    <tr>\n",
       "      <th>0</th>\n",
       "      <td>0</td>\n",
       "      <td>0</td>\n",
       "      <td>2</td>\n",
       "    </tr>\n",
       "    <tr>\n",
       "      <th>1</th>\n",
       "      <td>0</td>\n",
       "      <td>0</td>\n",
       "      <td>0</td>\n",
       "    </tr>\n",
       "    <tr>\n",
       "      <th>2</th>\n",
       "      <td>0</td>\n",
       "      <td>0</td>\n",
       "      <td>0</td>\n",
       "    </tr>\n",
       "    <tr>\n",
       "      <th>3</th>\n",
       "      <td>0</td>\n",
       "      <td>0</td>\n",
       "      <td>0</td>\n",
       "    </tr>\n",
       "    <tr>\n",
       "      <th>4</th>\n",
       "      <td>0</td>\n",
       "      <td>0</td>\n",
       "      <td>1</td>\n",
       "    </tr>\n",
       "  </tbody>\n",
       "</table>\n",
       "</div>"
      ],
      "text/plain": [
       "   null_cans_code  null_cans_dt_time  total_canceled_orders\n",
       "0               0                  0                      2\n",
       "1               0                  0                      0\n",
       "2               0                  0                      0\n",
       "3               0                  0                      0\n",
       "4               0                  0                      1"
      ]
     },
     "execution_count": 23,
     "metadata": {},
     "output_type": "execute_result"
    }
   ],
   "source": [
    "df_canc.head(5)"
   ]
  },
  {
   "cell_type": "markdown",
   "metadata": {},
   "source": [
    "### Cancellation trend for a column by date."
   ]
  },
  {
   "cell_type": "code",
   "execution_count": 24,
   "metadata": {},
   "outputs": [
    {
     "data": {
      "text/html": [
       "<div>\n",
       "<style scoped>\n",
       "    .dataframe tbody tr th:only-of-type {\n",
       "        vertical-align: middle;\n",
       "    }\n",
       "\n",
       "    .dataframe tbody tr th {\n",
       "        vertical-align: top;\n",
       "    }\n",
       "\n",
       "    .dataframe thead th {\n",
       "        text-align: right;\n",
       "    }\n",
       "</style>\n",
       "<table border=\"1\" class=\"dataframe\">\n",
       "  <thead>\n",
       "    <tr style=\"text-align: right;\">\n",
       "      <th></th>\n",
       "      <th>null_fulfilment_id</th>\n",
       "      <th>null_net_tran_id</th>\n",
       "      <th>null_qty</th>\n",
       "      <th>null_itm_fulfilment_id</th>\n",
       "      <th>null_del_pc</th>\n",
       "      <th>null_created_date_time</th>\n",
       "      <th>null_domain</th>\n",
       "      <th>null_del_cty</th>\n",
       "      <th>null_ord_stats</th>\n",
       "      <th>null_fulfil_status</th>\n",
       "      <th>null_itm_cat</th>\n",
       "      <th>null_cat_cons</th>\n",
       "      <th>null_sell_pincode</th>\n",
       "      <th>null_prov_id</th>\n",
       "      <th>null_itm_id</th>\n",
       "      <th>null_sell_np</th>\n",
       "      <th>null_net_ord_id</th>\n",
       "      <th>null_sell_cty</th>\n",
       "      <th>total_orders</th>\n",
       "    </tr>\n",
       "  </thead>\n",
       "  <tbody>\n",
       "    <tr>\n",
       "      <th>0</th>\n",
       "      <td>0</td>\n",
       "      <td>0</td>\n",
       "      <td>0</td>\n",
       "      <td>0</td>\n",
       "      <td>0</td>\n",
       "      <td>0</td>\n",
       "      <td>0</td>\n",
       "      <td>6</td>\n",
       "      <td>0</td>\n",
       "      <td>0</td>\n",
       "      <td>0</td>\n",
       "      <td>0</td>\n",
       "      <td>0</td>\n",
       "      <td>0</td>\n",
       "      <td>0</td>\n",
       "      <td>0</td>\n",
       "      <td>0</td>\n",
       "      <td>0</td>\n",
       "      <td>12</td>\n",
       "    </tr>\n",
       "    <tr>\n",
       "      <th>1</th>\n",
       "      <td>0</td>\n",
       "      <td>0</td>\n",
       "      <td>0</td>\n",
       "      <td>0</td>\n",
       "      <td>0</td>\n",
       "      <td>0</td>\n",
       "      <td>0</td>\n",
       "      <td>1</td>\n",
       "      <td>0</td>\n",
       "      <td>0</td>\n",
       "      <td>0</td>\n",
       "      <td>0</td>\n",
       "      <td>0</td>\n",
       "      <td>0</td>\n",
       "      <td>0</td>\n",
       "      <td>0</td>\n",
       "      <td>0</td>\n",
       "      <td>0</td>\n",
       "      <td>1</td>\n",
       "    </tr>\n",
       "    <tr>\n",
       "      <th>2</th>\n",
       "      <td>0</td>\n",
       "      <td>0</td>\n",
       "      <td>0</td>\n",
       "      <td>0</td>\n",
       "      <td>0</td>\n",
       "      <td>0</td>\n",
       "      <td>0</td>\n",
       "      <td>0</td>\n",
       "      <td>0</td>\n",
       "      <td>0</td>\n",
       "      <td>0</td>\n",
       "      <td>0</td>\n",
       "      <td>0</td>\n",
       "      <td>0</td>\n",
       "      <td>0</td>\n",
       "      <td>0</td>\n",
       "      <td>0</td>\n",
       "      <td>0</td>\n",
       "      <td>2</td>\n",
       "    </tr>\n",
       "    <tr>\n",
       "      <th>3</th>\n",
       "      <td>0</td>\n",
       "      <td>0</td>\n",
       "      <td>0</td>\n",
       "      <td>0</td>\n",
       "      <td>0</td>\n",
       "      <td>0</td>\n",
       "      <td>0</td>\n",
       "      <td>14</td>\n",
       "      <td>0</td>\n",
       "      <td>0</td>\n",
       "      <td>0</td>\n",
       "      <td>0</td>\n",
       "      <td>0</td>\n",
       "      <td>0</td>\n",
       "      <td>0</td>\n",
       "      <td>0</td>\n",
       "      <td>0</td>\n",
       "      <td>0</td>\n",
       "      <td>37</td>\n",
       "    </tr>\n",
       "    <tr>\n",
       "      <th>4</th>\n",
       "      <td>0</td>\n",
       "      <td>0</td>\n",
       "      <td>0</td>\n",
       "      <td>0</td>\n",
       "      <td>0</td>\n",
       "      <td>0</td>\n",
       "      <td>0</td>\n",
       "      <td>7</td>\n",
       "      <td>0</td>\n",
       "      <td>0</td>\n",
       "      <td>1</td>\n",
       "      <td>1</td>\n",
       "      <td>0</td>\n",
       "      <td>0</td>\n",
       "      <td>0</td>\n",
       "      <td>0</td>\n",
       "      <td>0</td>\n",
       "      <td>0</td>\n",
       "      <td>12</td>\n",
       "    </tr>\n",
       "  </tbody>\n",
       "</table>\n",
       "</div>"
      ],
      "text/plain": [
       "   null_fulfilment_id  null_net_tran_id  null_qty  null_itm_fulfilment_id  \\\n",
       "0                   0                 0         0                       0   \n",
       "1                   0                 0         0                       0   \n",
       "2                   0                 0         0                       0   \n",
       "3                   0                 0         0                       0   \n",
       "4                   0                 0         0                       0   \n",
       "\n",
       "   null_del_pc  null_created_date_time  null_domain  null_del_cty  \\\n",
       "0            0                       0            0             6   \n",
       "1            0                       0            0             1   \n",
       "2            0                       0            0             0   \n",
       "3            0                       0            0            14   \n",
       "4            0                       0            0             7   \n",
       "\n",
       "   null_ord_stats  null_fulfil_status  null_itm_cat  null_cat_cons  \\\n",
       "0               0                   0             0              0   \n",
       "1               0                   0             0              0   \n",
       "2               0                   0             0              0   \n",
       "3               0                   0             0              0   \n",
       "4               0                   0             1              1   \n",
       "\n",
       "   null_sell_pincode  null_prov_id  null_itm_id  null_sell_np  \\\n",
       "0                  0             0            0             0   \n",
       "1                  0             0            0             0   \n",
       "2                  0             0            0             0   \n",
       "3                  0             0            0             0   \n",
       "4                  0             0            0             0   \n",
       "\n",
       "   null_net_ord_id  null_sell_cty  total_orders  \n",
       "0                0              0            12  \n",
       "1                0              0             1  \n",
       "2                0              0             2  \n",
       "3                0              0            37  \n",
       "4                0              0            12  "
      ]
     },
     "execution_count": 24,
     "metadata": {},
     "output_type": "execute_result"
    }
   ],
   "source": [
    "df_cc.head(5)"
   ]
  },
  {
   "cell_type": "code",
   "execution_count": 25,
   "metadata": {},
   "outputs": [],
   "source": [
    "col_name = \"null_del_cty\""
   ]
  },
  {
   "cell_type": "code",
   "execution_count": 26,
   "metadata": {},
   "outputs": [],
   "source": [
    "tmp_df =  df_cc[[col_name, \"total_orders\"]]"
   ]
  },
  {
   "cell_type": "code",
   "execution_count": 34,
   "metadata": {},
   "outputs": [],
   "source": [
    "tmp_df.loc[:,[\"tmp_percentage\"]] = tmp_df[\"null_del_cty\"] / tmp_df[\"total_orders\"]"
   ]
  },
  {
   "cell_type": "code",
   "execution_count": 35,
   "metadata": {},
   "outputs": [],
   "source": [
    "tmp_df.loc[:,[\"tmp_percentage\"]] = tmp_df.sort_values(ascending=False, by=\"tmp_percentage\")"
   ]
  },
  {
   "cell_type": "code",
   "execution_count": 36,
   "metadata": {},
   "outputs": [
    {
     "data": {
      "text/html": [
       "<div>\n",
       "<style scoped>\n",
       "    .dataframe tbody tr th:only-of-type {\n",
       "        vertical-align: middle;\n",
       "    }\n",
       "\n",
       "    .dataframe tbody tr th {\n",
       "        vertical-align: top;\n",
       "    }\n",
       "\n",
       "    .dataframe thead th {\n",
       "        text-align: right;\n",
       "    }\n",
       "</style>\n",
       "<table border=\"1\" class=\"dataframe\">\n",
       "  <thead>\n",
       "    <tr style=\"text-align: right;\">\n",
       "      <th></th>\n",
       "      <th>null_del_cty</th>\n",
       "      <th>total_orders</th>\n",
       "      <th>tmp_percentage</th>\n",
       "    </tr>\n",
       "  </thead>\n",
       "  <tbody>\n",
       "    <tr>\n",
       "      <th>0</th>\n",
       "      <td>6</td>\n",
       "      <td>12</td>\n",
       "      <td>0.500000</td>\n",
       "    </tr>\n",
       "    <tr>\n",
       "      <th>2</th>\n",
       "      <td>0</td>\n",
       "      <td>2</td>\n",
       "      <td>0.000000</td>\n",
       "    </tr>\n",
       "    <tr>\n",
       "      <th>3</th>\n",
       "      <td>14</td>\n",
       "      <td>37</td>\n",
       "      <td>0.378378</td>\n",
       "    </tr>\n",
       "    <tr>\n",
       "      <th>4</th>\n",
       "      <td>7</td>\n",
       "      <td>12</td>\n",
       "      <td>0.583333</td>\n",
       "    </tr>\n",
       "    <tr>\n",
       "      <th>5</th>\n",
       "      <td>12</td>\n",
       "      <td>22</td>\n",
       "      <td>0.545455</td>\n",
       "    </tr>\n",
       "  </tbody>\n",
       "</table>\n",
       "</div>"
      ],
      "text/plain": [
       "   null_del_cty  total_orders  tmp_percentage\n",
       "0             6            12        0.500000\n",
       "2             0             2        0.000000\n",
       "3            14            37        0.378378\n",
       "4             7            12        0.583333\n",
       "5            12            22        0.545455"
      ]
     },
     "execution_count": 36,
     "metadata": {},
     "output_type": "execute_result"
    }
   ],
   "source": [
    "tmp_df[tmp_df[\"tmp_percentage\"]<1.00].head(5)"
   ]
  },
  {
   "cell_type": "markdown",
   "metadata": {},
   "source": [
    "### Top Column by cancellation percentage for a day"
   ]
  },
  {
   "cell_type": "code",
   "execution_count": 30,
   "metadata": {},
   "outputs": [
    {
     "data": {
      "text/html": [
       "<div>\n",
       "<style scoped>\n",
       "    .dataframe tbody tr th:only-of-type {\n",
       "        vertical-align: middle;\n",
       "    }\n",
       "\n",
       "    .dataframe tbody tr th {\n",
       "        vertical-align: top;\n",
       "    }\n",
       "\n",
       "    .dataframe thead th {\n",
       "        text-align: right;\n",
       "    }\n",
       "</style>\n",
       "<table border=\"1\" class=\"dataframe\">\n",
       "  <thead>\n",
       "    <tr style=\"text-align: right;\">\n",
       "      <th></th>\n",
       "      <th>null_fulfilment_id</th>\n",
       "      <th>null_net_tran_id</th>\n",
       "      <th>null_qty</th>\n",
       "      <th>null_itm_fulfilment_id</th>\n",
       "      <th>null_del_pc</th>\n",
       "      <th>null_created_date_time</th>\n",
       "      <th>null_domain</th>\n",
       "      <th>null_del_cty</th>\n",
       "      <th>null_ord_stats</th>\n",
       "      <th>null_fulfil_status</th>\n",
       "      <th>null_itm_cat</th>\n",
       "      <th>null_cat_cons</th>\n",
       "      <th>null_sell_pincode</th>\n",
       "      <th>null_prov_id</th>\n",
       "      <th>null_itm_id</th>\n",
       "      <th>null_sell_np</th>\n",
       "      <th>null_net_ord_id</th>\n",
       "      <th>null_sell_cty</th>\n",
       "      <th>total_orders</th>\n",
       "    </tr>\n",
       "  </thead>\n",
       "  <tbody>\n",
       "    <tr>\n",
       "      <th>0</th>\n",
       "      <td>0</td>\n",
       "      <td>0</td>\n",
       "      <td>0</td>\n",
       "      <td>0</td>\n",
       "      <td>0</td>\n",
       "      <td>0</td>\n",
       "      <td>0</td>\n",
       "      <td>6</td>\n",
       "      <td>0</td>\n",
       "      <td>0</td>\n",
       "      <td>0</td>\n",
       "      <td>0</td>\n",
       "      <td>0</td>\n",
       "      <td>0</td>\n",
       "      <td>0</td>\n",
       "      <td>0</td>\n",
       "      <td>0</td>\n",
       "      <td>0</td>\n",
       "      <td>12</td>\n",
       "    </tr>\n",
       "    <tr>\n",
       "      <th>1</th>\n",
       "      <td>0</td>\n",
       "      <td>0</td>\n",
       "      <td>0</td>\n",
       "      <td>0</td>\n",
       "      <td>0</td>\n",
       "      <td>0</td>\n",
       "      <td>0</td>\n",
       "      <td>1</td>\n",
       "      <td>0</td>\n",
       "      <td>0</td>\n",
       "      <td>0</td>\n",
       "      <td>0</td>\n",
       "      <td>0</td>\n",
       "      <td>0</td>\n",
       "      <td>0</td>\n",
       "      <td>0</td>\n",
       "      <td>0</td>\n",
       "      <td>0</td>\n",
       "      <td>1</td>\n",
       "    </tr>\n",
       "    <tr>\n",
       "      <th>2</th>\n",
       "      <td>0</td>\n",
       "      <td>0</td>\n",
       "      <td>0</td>\n",
       "      <td>0</td>\n",
       "      <td>0</td>\n",
       "      <td>0</td>\n",
       "      <td>0</td>\n",
       "      <td>0</td>\n",
       "      <td>0</td>\n",
       "      <td>0</td>\n",
       "      <td>0</td>\n",
       "      <td>0</td>\n",
       "      <td>0</td>\n",
       "      <td>0</td>\n",
       "      <td>0</td>\n",
       "      <td>0</td>\n",
       "      <td>0</td>\n",
       "      <td>0</td>\n",
       "      <td>2</td>\n",
       "    </tr>\n",
       "    <tr>\n",
       "      <th>3</th>\n",
       "      <td>0</td>\n",
       "      <td>0</td>\n",
       "      <td>0</td>\n",
       "      <td>0</td>\n",
       "      <td>0</td>\n",
       "      <td>0</td>\n",
       "      <td>0</td>\n",
       "      <td>14</td>\n",
       "      <td>0</td>\n",
       "      <td>0</td>\n",
       "      <td>0</td>\n",
       "      <td>0</td>\n",
       "      <td>0</td>\n",
       "      <td>0</td>\n",
       "      <td>0</td>\n",
       "      <td>0</td>\n",
       "      <td>0</td>\n",
       "      <td>0</td>\n",
       "      <td>37</td>\n",
       "    </tr>\n",
       "    <tr>\n",
       "      <th>4</th>\n",
       "      <td>0</td>\n",
       "      <td>0</td>\n",
       "      <td>0</td>\n",
       "      <td>0</td>\n",
       "      <td>0</td>\n",
       "      <td>0</td>\n",
       "      <td>0</td>\n",
       "      <td>7</td>\n",
       "      <td>0</td>\n",
       "      <td>0</td>\n",
       "      <td>1</td>\n",
       "      <td>1</td>\n",
       "      <td>0</td>\n",
       "      <td>0</td>\n",
       "      <td>0</td>\n",
       "      <td>0</td>\n",
       "      <td>0</td>\n",
       "      <td>0</td>\n",
       "      <td>12</td>\n",
       "    </tr>\n",
       "  </tbody>\n",
       "</table>\n",
       "</div>"
      ],
      "text/plain": [
       "   null_fulfilment_id  null_net_tran_id  null_qty  null_itm_fulfilment_id  \\\n",
       "0                   0                 0         0                       0   \n",
       "1                   0                 0         0                       0   \n",
       "2                   0                 0         0                       0   \n",
       "3                   0                 0         0                       0   \n",
       "4                   0                 0         0                       0   \n",
       "\n",
       "   null_del_pc  null_created_date_time  null_domain  null_del_cty  \\\n",
       "0            0                       0            0             6   \n",
       "1            0                       0            0             1   \n",
       "2            0                       0            0             0   \n",
       "3            0                       0            0            14   \n",
       "4            0                       0            0             7   \n",
       "\n",
       "   null_ord_stats  null_fulfil_status  null_itm_cat  null_cat_cons  \\\n",
       "0               0                   0             0              0   \n",
       "1               0                   0             0              0   \n",
       "2               0                   0             0              0   \n",
       "3               0                   0             0              0   \n",
       "4               0                   0             1              1   \n",
       "\n",
       "   null_sell_pincode  null_prov_id  null_itm_id  null_sell_np  \\\n",
       "0                  0             0            0             0   \n",
       "1                  0             0            0             0   \n",
       "2                  0             0            0             0   \n",
       "3                  0             0            0             0   \n",
       "4                  0             0            0             0   \n",
       "\n",
       "   null_net_ord_id  null_sell_cty  total_orders  \n",
       "0                0              0            12  \n",
       "1                0              0             1  \n",
       "2                0              0             2  \n",
       "3                0              0            37  \n",
       "4                0              0            12  "
      ]
     },
     "execution_count": 30,
     "metadata": {},
     "output_type": "execute_result"
    }
   ],
   "source": [
    "df_cc.head(5)"
   ]
  },
  {
   "cell_type": "code",
   "execution_count": 31,
   "metadata": {},
   "outputs": [],
   "source": [
    "compl_cols = []\n",
    "compl_vals = []\n",
    "total_val = df_cc[\"total_orders\"].sum()"
   ]
  },
  {
   "cell_type": "code",
   "execution_count": 32,
   "metadata": {},
   "outputs": [],
   "source": [
    "for col in df_cc.columns:\n",
    "    tot = df_cc[col].sum()\n",
    "    if tot > 0 and col != \"total_orders\":\n",
    "        compl_cols.append(col)\n",
    "        compl_vals.append((tot/total_val)*100)"
   ]
  },
  {
   "cell_type": "code",
   "execution_count": 33,
   "metadata": {},
   "outputs": [
    {
     "data": {
      "text/html": [
       "<div>\n",
       "<style scoped>\n",
       "    .dataframe tbody tr th:only-of-type {\n",
       "        vertical-align: middle;\n",
       "    }\n",
       "\n",
       "    .dataframe tbody tr th {\n",
       "        vertical-align: top;\n",
       "    }\n",
       "\n",
       "    .dataframe thead th {\n",
       "        text-align: right;\n",
       "    }\n",
       "</style>\n",
       "<table border=\"1\" class=\"dataframe\">\n",
       "  <thead>\n",
       "    <tr style=\"text-align: right;\">\n",
       "      <th></th>\n",
       "      <th>null_del_cty</th>\n",
       "      <th>null_itm_cat</th>\n",
       "      <th>null_cat_cons</th>\n",
       "      <th>null_sell_pincode</th>\n",
       "      <th>null_sell_cty</th>\n",
       "    </tr>\n",
       "  </thead>\n",
       "  <tbody>\n",
       "    <tr>\n",
       "      <th>0</th>\n",
       "      <td>3.219234</td>\n",
       "      <td>0.352711</td>\n",
       "      <td>3.74282</td>\n",
       "      <td>0.008469</td>\n",
       "      <td>0.008469</td>\n",
       "    </tr>\n",
       "  </tbody>\n",
       "</table>\n",
       "</div>"
      ],
      "text/plain": [
       "   null_del_cty  null_itm_cat  null_cat_cons  null_sell_pincode  null_sell_cty\n",
       "0      3.219234      0.352711        3.74282           0.008469       0.008469"
      ]
     },
     "execution_count": 33,
     "metadata": {},
     "output_type": "execute_result"
    }
   ],
   "source": [
    "pd.DataFrame([compl_vals], columns=compl_cols)"
   ]
  },
  {
   "cell_type": "markdown",
   "metadata": {},
   "source": [
    "### Prev Day Stats"
   ]
  },
  {
   "cell_type": "code",
   "execution_count": 45,
   "metadata": {},
   "outputs": [
    {
     "data": {
      "text/plain": [
       "datetime.date(2024, 6, 25)"
      ]
     },
     "execution_count": 45,
     "metadata": {},
     "output_type": "execute_result"
    }
   ],
   "source": [
    "dt"
   ]
  },
  {
   "cell_type": "code",
   "execution_count": 47,
   "metadata": {},
   "outputs": [],
   "source": [
    "prev_dt = dt - timedelta(days=1)"
   ]
  },
  {
   "cell_type": "code",
   "execution_count": 48,
   "metadata": {},
   "outputs": [
    {
     "data": {
      "text/plain": [
       "datetime.date(2024, 6, 24)"
      ]
     },
     "execution_count": 48,
     "metadata": {},
     "output_type": "execute_result"
    }
   ],
   "source": [
    "prev_dt"
   ]
  },
  {
   "cell_type": "code",
   "execution_count": 49,
   "metadata": {},
   "outputs": [],
   "source": [
    "df_cc_prev, df_canc_prev = mdl.get_per_col(prev_dt)"
   ]
  },
  {
   "cell_type": "code",
   "execution_count": null,
   "metadata": {},
   "outputs": [],
   "source": []
  },
  {
   "cell_type": "markdown",
   "metadata": {},
   "source": [
    "## Functions."
   ]
  },
  {
   "cell_type": "code",
   "execution_count": null,
   "metadata": {},
   "outputs": [],
   "source": [
    "def top_n_providers_dt(missing_col,date_val, n:str = 5):\n",
    "    "
   ]
  }
 ],
 "metadata": {
  "kernelspec": {
   "display_name": ".venv",
   "language": "python",
   "name": "python3"
  },
  "language_info": {
   "codemirror_mode": {
    "name": "ipython",
    "version": 3
   },
   "file_extension": ".py",
   "mimetype": "text/x-python",
   "name": "python",
   "nbconvert_exporter": "python",
   "pygments_lexer": "ipython3",
   "version": "3.10.12"
  }
 },
 "nbformat": 4,
 "nbformat_minor": 2
}
